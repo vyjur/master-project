{
 "cells": [
  {
   "cell_type": "code",
   "execution_count": 1,
   "id": "a75a8c79-9888-41cd-9ba0-91febdca1d58",
   "metadata": {},
   "outputs": [],
   "source": [
    "import pandas as pd"
   ]
  },
  {
   "cell_type": "code",
   "execution_count": 2,
   "id": "e5326a07-7f92-43ac-96cd-b6672300ef6e",
   "metadata": {},
   "outputs": [
    {
     "data": {
      "text/plain": [
       "'/cluster/home/julievt/master-project/notebooks'"
      ]
     },
     "execution_count": 2,
     "metadata": {},
     "output_type": "execute_result"
    }
   ],
   "source": [
    "import os\n",
    "os.getcwd()"
   ]
  },
  {
   "cell_type": "code",
   "execution_count": 3,
   "id": "64da18cb-72df-4052-9876-55652c4ae4f2",
   "metadata": {},
   "outputs": [],
   "source": [
    "df = pd.read_csv('../data/ner_train.csv')\n",
    "df.drop([\"Unnamed: 0\"], axis=1, inplace=True)"
   ]
  },
  {
   "cell_type": "code",
   "execution_count": 4,
   "id": "6a37366b-db11-4219-8a4d-ab9ef0fcc0a0",
   "metadata": {},
   "outputs": [
    {
     "data": {
      "text/html": [
       "<div>\n",
       "<style scoped>\n",
       "    .dataframe tbody tr th:only-of-type {\n",
       "        vertical-align: middle;\n",
       "    }\n",
       "\n",
       "    .dataframe tbody tr th {\n",
       "        vertical-align: top;\n",
       "    }\n",
       "\n",
       "    .dataframe thead th {\n",
       "        text-align: right;\n",
       "    }\n",
       "</style>\n",
       "<table border=\"1\" class=\"dataframe\">\n",
       "  <thead>\n",
       "    <tr style=\"text-align: right;\">\n",
       "      <th></th>\n",
       "      <th>Term</th>\n",
       "      <th>Category</th>\n",
       "    </tr>\n",
       "  </thead>\n",
       "  <tbody>\n",
       "    <tr>\n",
       "      <th>0</th>\n",
       "      <td>abarognose</td>\n",
       "      <td>CONDITION</td>\n",
       "    </tr>\n",
       "    <tr>\n",
       "      <th>1</th>\n",
       "      <td>Abboticin</td>\n",
       "      <td>SUBSTANCE</td>\n",
       "    </tr>\n",
       "    <tr>\n",
       "      <th>2</th>\n",
       "      <td>abdominalangiografi</td>\n",
       "      <td>PROCEDURE</td>\n",
       "    </tr>\n",
       "    <tr>\n",
       "      <th>3</th>\n",
       "      <td>abdominalblødning</td>\n",
       "      <td>CONDITION</td>\n",
       "    </tr>\n",
       "    <tr>\n",
       "      <th>4</th>\n",
       "      <td>abdominalgia</td>\n",
       "      <td>CONDITION</td>\n",
       "    </tr>\n",
       "    <tr>\n",
       "      <th>...</th>\n",
       "      <td>...</td>\n",
       "      <td>...</td>\n",
       "    </tr>\n",
       "    <tr>\n",
       "      <th>75851</th>\n",
       "      <td>Øyevæske-Bredt substanssøk</td>\n",
       "      <td>SUBSTANCE</td>\n",
       "    </tr>\n",
       "    <tr>\n",
       "      <th>75852</th>\n",
       "      <td>Abscess</td>\n",
       "      <td>CONDITION</td>\n",
       "    </tr>\n",
       "    <tr>\n",
       "      <th>75853</th>\n",
       "      <td>Decubitus</td>\n",
       "      <td>CONDITION</td>\n",
       "    </tr>\n",
       "    <tr>\n",
       "      <th>75854</th>\n",
       "      <td>Kateter innleggelse</td>\n",
       "      <td>PROCEDURE</td>\n",
       "    </tr>\n",
       "    <tr>\n",
       "      <th>75855</th>\n",
       "      <td>Pustel</td>\n",
       "      <td>CONDITION</td>\n",
       "    </tr>\n",
       "  </tbody>\n",
       "</table>\n",
       "<p>75856 rows × 2 columns</p>\n",
       "</div>"
      ],
      "text/plain": [
       "                             Term   Category\n",
       "0                      abarognose  CONDITION\n",
       "1                       Abboticin  SUBSTANCE\n",
       "2             abdominalangiografi  PROCEDURE\n",
       "3               abdominalblødning  CONDITION\n",
       "4                    abdominalgia  CONDITION\n",
       "...                           ...        ...\n",
       "75851  Øyevæske-Bredt substanssøk  SUBSTANCE\n",
       "75852                     Abscess  CONDITION\n",
       "75853                   Decubitus  CONDITION\n",
       "75854         Kateter innleggelse  PROCEDURE\n",
       "75855                      Pustel  CONDITION\n",
       "\n",
       "[75856 rows x 2 columns]"
      ]
     },
     "execution_count": 4,
     "metadata": {},
     "output_type": "execute_result"
    }
   ],
   "source": [
    "df"
   ]
  },
  {
   "cell_type": "code",
   "execution_count": 5,
   "id": "b318b193-91c1-4eb9-b9c4-7ac08b9867f3",
   "metadata": {},
   "outputs": [],
   "source": [
    "import torch\n",
    "from torch import cuda\n",
    "device = 'cuda' if cuda.is_available() else 'cpu'\n",
    "torch.cuda.empty_cache()"
   ]
  },
  {
   "cell_type": "code",
   "execution_count": 6,
   "id": "96301936-78d8-4f23-9635-661e19e58e52",
   "metadata": {},
   "outputs": [
    {
     "name": "stderr",
     "output_type": "stream",
     "text": [
      "/cluster/home/julievt/.cache/pypoetry/virtualenvs/master-project-118ajfdt-py3.10/lib/python3.10/site-packages/tqdm/auto.py:21: TqdmWarning: IProgress not found. Please update jupyter and ipywidgets. See https://ipywidgets.readthedocs.io/en/stable/user_install.html\n",
      "  from .autonotebook import tqdm as notebook_tqdm\n",
      "Loading checkpoint shards: 100%|██████████| 19/19 [10:26<00:00, 32.99s/it]\n",
      "Hardware accelerator e.g. GPU is available in the environment, but no `device` argument is passed to the `Pipeline` object. Model will be on CPU.\n"
     ]
    }
   ],
   "source": [
    "# Use a pipeline as a high-level helper\n",
    "\n",
    "# NorwAI/NorwAI-Mixtral-8x7B-instruct\n",
    "from transformers import pipeline, AutoTokenizer\n",
    "tokenizer = AutoTokenizer.from_pretrained(\"NorwAI/NorwAI-Mixtral-8x7B-instruct\")\n",
    "# pipe = pipeline(\"text-generation\", model=\"norallm/normistral-7b-warm-instruct\")\n",
    "pipe = pipeline(\"text-generation\", model=\"NorwAI/NorwAI-Mixtral-8x7B-instruct\")     "
   ]
  },
  {
   "cell_type": "code",
   "execution_count": 15,
   "id": "76eb2d17-1c1a-4881-b86b-7123d34aade4",
   "metadata": {},
   "outputs": [],
   "source": [
    "prompt = '''### Oppgave\n",
    "Din oppgave er å generere en setning i en pasientjournal som beskriver en pasients tilstand med bruk av et gitt medisinsk faglig ord. Ikke bruk eksemplene direkte men bare bruk det som inspirasjon.\n",
    "\n",
    "Eksempler:\n",
    "- Pasienten ble forskrevet Abboticin 250 mg to ganger daglig som del av antibiotikabehandlingen mot hudinfeksjon.\n",
    "- Etter påvisning av streptokokkinfeksjon ble pasienten startet på Abboticin 500 mg i fem dager.\n",
    "- Behandlingen med Abboticin ble avsluttet etter at pasienten viste tegn til bedring og ingen bivirkninger ble observert.\n",
    "\n",
    "### Ord: {}\n",
    "### Utdatatekst:\n",
    "'''"
   ]
  },
  {
   "cell_type": "code",
   "execution_count": 16,
   "id": "146f5609-f48a-45e7-90ea-b881b00feeda",
   "metadata": {},
   "outputs": [
    {
     "data": {
      "text/plain": [
       "[{'generated_text': '### Oppgave\\nDin oppgave er å generere en setning i en pasientjournal som beskriver en pasients tilstand med bruk av et gitt medisinsk faglig ord. Ikke bruk eksemplene direkte men bare bruk det som inspirasjon.\\n\\nEksempler:\\n- Pasienten ble forskrevet Abboticin 250 mg to ganger daglig som del av antibiotikabehandlingen mot hudinfeksjon.\\n- Etter påvisning av streptokokkinfeksjon ble pasienten startet på Abboticin 500 mg i fem dager.\\n- Behandlingen med Abboticin ble avsluttet etter at pasienten viste tegn til bedring og ingen bivirkninger ble observert.\\n\\n### Ord: abarognose\\n### Utdatatekst:\\nPasienten viste tegn til abarognose og ble derfor forskrevet Abboticin 250 mg to ganger daglig som del av antibiotikabehandlingen.'}]"
      ]
     },
     "execution_count": 16,
     "metadata": {},
     "output_type": "execute_result"
    }
   ],
   "source": [
    "pipe(prompt.format(\"abarognose\"), max_new_tokens=512)"
   ]
  },
  {
   "cell_type": "code",
   "execution_count": 19,
   "id": "419e1f60-6241-4d05-a7b8-509f753177ec",
   "metadata": {},
   "outputs": [
    {
     "data": {
      "text/plain": [
       "[{'generated_text': '### Oppgave\\nDin oppgave er å generere en setning i en pasientjournal som beskriver en pasients tilstand med bruk av et gitt medisinsk faglig ord. Ikke bruk eksemplene direkte men bare bruk det som inspirasjon. Ikke bruk det direkte.\\n\\n### Ord: abarognose\\n### Utdatatekst:\\nPasienten har abarognose.'}]"
      ]
     },
     "execution_count": 19,
     "metadata": {},
     "output_type": "execute_result"
    }
   ],
   "source": [
    "prompt = '''### Oppgave\n",
    "Din oppgave er å generere en setning i en pasientjournal som beskriver en pasients tilstand med bruk av et gitt medisinsk faglig ord. Ikke bruk eksemplene direkte men bare bruk det som inspirasjon. Ikke bruk det direkte.\n",
    "\n",
    "### Ord: {}\n",
    "### Utdatatekst:\n",
    "'''\n",
    "\n",
    "pipe(prompt.format(\"abarognose\"), max_new_tokens=512)"
   ]
  },
  {
   "cell_type": "code",
   "execution_count": null,
   "id": "bcba8e4c-aa2a-44d8-befb-fa0509ba44c1",
   "metadata": {},
   "outputs": [],
   "source": []
  },
  {
   "cell_type": "code",
   "execution_count": null,
   "id": "94bf8777-dea3-460b-affb-981627a3059c",
   "metadata": {},
   "outputs": [],
   "source": []
  }
 ],
 "metadata": {
  "kernelspec": {
   "display_name": "local-venv",
   "language": "python",
   "name": "local-venv"
  },
  "language_info": {
   "codemirror_mode": {
    "name": "ipython",
    "version": 3
   },
   "file_extension": ".py",
   "mimetype": "text/x-python",
   "name": "python",
   "nbconvert_exporter": "python",
   "pygments_lexer": "ipython3",
   "version": "3.10.8"
  }
 },
 "nbformat": 4,
 "nbformat_minor": 5
}
