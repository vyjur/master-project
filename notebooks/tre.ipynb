{
 "cells": [
  {
   "cell_type": "code",
   "execution_count": 1,
   "metadata": {},
   "outputs": [],
   "source": [
    "import pandas as pd\n",
    "from preprocess.dataset import DatasetManager"
   ]
  },
  {
   "cell_type": "code",
   "execution_count": 2,
   "metadata": {},
   "outputs": [
    {
     "data": {
      "text/plain": [
       "'c:\\\\Users\\\\driti\\\\Documents\\\\NTNU\\\\Master\\\\master-project\\\\notebooks'"
      ]
     },
     "execution_count": 2,
     "metadata": {},
     "output_type": "execute_result"
    }
   ],
   "source": [
    "import os\n",
    "os.getcwd()"
   ]
  },
  {
   "cell_type": "code",
   "execution_count": 3,
   "metadata": {},
   "outputs": [],
   "source": [
    "manager = DatasetManager(['../data/annotated/journal.tsv'])"
   ]
  },
  {
   "cell_type": "code",
   "execution_count": 4,
   "metadata": {},
   "outputs": [],
   "source": [
    "df_mer = manager.get('MER')"
   ]
  },
  {
   "cell_type": "code",
   "execution_count": 5,
   "metadata": {},
   "outputs": [],
   "source": [
    "doc_entity = df_mer[0][df_mer[0]['Medical Entity'] != 'O']"
   ]
  },
  {
   "cell_type": "code",
   "execution_count": 6,
   "metadata": {},
   "outputs": [
    {
     "data": {
      "text/html": [
       "<div>\n",
       "<style scoped>\n",
       "    .dataframe tbody tr th:only-of-type {\n",
       "        vertical-align: middle;\n",
       "    }\n",
       "\n",
       "    .dataframe tbody tr th {\n",
       "        vertical-align: top;\n",
       "    }\n",
       "\n",
       "    .dataframe thead th {\n",
       "        text-align: right;\n",
       "    }\n",
       "</style>\n",
       "<table border=\"1\" class=\"dataframe\">\n",
       "  <thead>\n",
       "    <tr style=\"text-align: right;\">\n",
       "      <th></th>\n",
       "      <th>id</th>\n",
       "      <th>Text</th>\n",
       "      <th>Medical Entity</th>\n",
       "    </tr>\n",
       "  </thead>\n",
       "  <tbody>\n",
       "    <tr>\n",
       "      <th>26</th>\n",
       "      <td>3-8</td>\n",
       "      <td>brystsmerter</td>\n",
       "      <td>SYMPTOM</td>\n",
       "    </tr>\n",
       "    <tr>\n",
       "      <th>71</th>\n",
       "      <td>5-6</td>\n",
       "      <td>tungpust</td>\n",
       "      <td>SYMPTOM</td>\n",
       "    </tr>\n",
       "    <tr>\n",
       "      <th>86</th>\n",
       "      <td>6-4</td>\n",
       "      <td>hypertensjon</td>\n",
       "      <td>SYMPTOM</td>\n",
       "    </tr>\n",
       "    <tr>\n",
       "      <th>90</th>\n",
       "      <td>6-8</td>\n",
       "      <td>medikamentell</td>\n",
       "      <td>EVENT</td>\n",
       "    </tr>\n",
       "    <tr>\n",
       "      <th>91</th>\n",
       "      <td>6-9</td>\n",
       "      <td>behandling</td>\n",
       "      <td>EVENT</td>\n",
       "    </tr>\n",
       "    <tr>\n",
       "      <th>165</th>\n",
       "      <td>10-8</td>\n",
       "      <td>EKG</td>\n",
       "      <td>EVENT</td>\n",
       "    </tr>\n",
       "    <tr>\n",
       "      <th>168</th>\n",
       "      <td>10-10</td>\n",
       "      <td>belastningstest</td>\n",
       "      <td>EVENT</td>\n",
       "    </tr>\n",
       "  </tbody>\n",
       "</table>\n",
       "</div>"
      ],
      "text/plain": [
       "        id             Text Medical Entity\n",
       "26     3-8     brystsmerter        SYMPTOM\n",
       "71     5-6         tungpust        SYMPTOM\n",
       "86     6-4     hypertensjon        SYMPTOM\n",
       "90     6-8    medikamentell          EVENT\n",
       "91     6-9       behandling          EVENT\n",
       "165   10-8              EKG          EVENT\n",
       "168  10-10  belastningstest          EVENT"
      ]
     },
     "execution_count": 6,
     "metadata": {},
     "output_type": "execute_result"
    }
   ],
   "source": [
    "doc_entity"
   ]
  },
  {
   "cell_type": "code",
   "execution_count": 7,
   "metadata": {},
   "outputs": [],
   "source": [
    "df_tre = manager.get('TRE')"
   ]
  },
  {
   "cell_type": "code",
   "execution_count": 8,
   "metadata": {},
   "outputs": [],
   "source": [
    "doc = df_tre[0]"
   ]
  },
  {
   "cell_type": "code",
   "execution_count": 9,
   "metadata": {},
   "outputs": [
    {
     "data": {
      "text/html": [
       "<div>\n",
       "<style scoped>\n",
       "    .dataframe tbody tr th:only-of-type {\n",
       "        vertical-align: middle;\n",
       "    }\n",
       "\n",
       "    .dataframe tbody tr th {\n",
       "        vertical-align: top;\n",
       "    }\n",
       "\n",
       "    .dataframe thead th {\n",
       "        text-align: right;\n",
       "    }\n",
       "</style>\n",
       "<table border=\"1\" class=\"dataframe\">\n",
       "  <thead>\n",
       "    <tr style=\"text-align: right;\">\n",
       "      <th></th>\n",
       "      <th>id</th>\n",
       "      <th>Text</th>\n",
       "      <th>Temporal Relation</th>\n",
       "      <th>fk_id</th>\n",
       "    </tr>\n",
       "  </thead>\n",
       "  <tbody>\n",
       "    <tr>\n",
       "      <th>71</th>\n",
       "      <td>5-6</td>\n",
       "      <td>tungpust</td>\n",
       "      <td>XDURINGY</td>\n",
       "      <td>3-8</td>\n",
       "    </tr>\n",
       "    <tr>\n",
       "      <th>90</th>\n",
       "      <td>6-8</td>\n",
       "      <td>medikamentell</td>\n",
       "      <td>XBEFOREY</td>\n",
       "      <td>6-4</td>\n",
       "    </tr>\n",
       "    <tr>\n",
       "      <th>165</th>\n",
       "      <td>10-8</td>\n",
       "      <td>EKG</td>\n",
       "      <td>XBEFOREY</td>\n",
       "      <td>3-8</td>\n",
       "    </tr>\n",
       "    <tr>\n",
       "      <th>166</th>\n",
       "      <td>10-8</td>\n",
       "      <td>EKG</td>\n",
       "      <td>XBEFOREY</td>\n",
       "      <td>5-6</td>\n",
       "    </tr>\n",
       "    <tr>\n",
       "      <th>168</th>\n",
       "      <td>10-10</td>\n",
       "      <td>belastningstest</td>\n",
       "      <td>XBEFOREY</td>\n",
       "      <td>3-8</td>\n",
       "    </tr>\n",
       "    <tr>\n",
       "      <th>169</th>\n",
       "      <td>10-10</td>\n",
       "      <td>belastningstest</td>\n",
       "      <td>XBEFOREY</td>\n",
       "      <td>5-6</td>\n",
       "    </tr>\n",
       "  </tbody>\n",
       "</table>\n",
       "</div>"
      ],
      "text/plain": [
       "        id             Text Temporal Relation fk_id\n",
       "71     5-6         tungpust          XDURINGY   3-8\n",
       "90     6-8    medikamentell          XBEFOREY   6-4\n",
       "165   10-8              EKG          XBEFOREY   3-8\n",
       "166   10-8              EKG          XBEFOREY   5-6\n",
       "168  10-10  belastningstest          XBEFOREY   3-8\n",
       "169  10-10  belastningstest          XBEFOREY   5-6"
      ]
     },
     "execution_count": 9,
     "metadata": {},
     "output_type": "execute_result"
    }
   ],
   "source": [
    "doc[doc['fk_id'].notna()]"
   ]
  },
  {
   "cell_type": "code",
   "execution_count": 10,
   "metadata": {},
   "outputs": [
    {
     "data": {
      "text/plain": [
       "'5-6'"
      ]
     },
     "execution_count": 10,
     "metadata": {},
     "output_type": "execute_result"
    }
   ],
   "source": [
    "doc_entity.loc[71]['id']"
   ]
  },
  {
   "cell_type": "code",
   "execution_count": 11,
   "metadata": {},
   "outputs": [],
   "source": [
    "sentences = manager.get('SENTENCES')"
   ]
  },
  {
   "cell_type": "code",
   "execution_count": null,
   "metadata": {},
   "outputs": [
    {
     "name": "stdout",
     "output_type": "stream",
     "text": [
      "{'i': 'brystsmerter', 'context_i': 2, 'context_j': 2, 'j': 'tungpust', 'relation': 'XDURINGY'}\n",
      "{'i': 'brystsmerter', 'context_i': 2, 'context_j': 2, 'j': 'hypertensjon', 'relation': None}\n",
      "{'i': 'brystsmerter', 'context_i': 2, 'context_j': 2, 'j': 'medikamentell', 'relation': None}\n",
      "{'i': 'brystsmerter', 'context_i': 2, 'context_j': 2, 'j': 'behandling', 'relation': None}\n",
      "{'i': 'brystsmerter', 'context_i': 2, 'context_j': 2, 'j': 'EKG', 'relation': 'XBEFOREY'}\n",
      "{'i': 'brystsmerter', 'context_i': 2, 'context_j': 2, 'j': 'belastningstest', 'relation': 'XBEFOREY'}\n",
      "{'i': 'tungpust', 'context_i': 2, 'context_j': 2, 'j': 'brystsmerter', 'relation': None}\n",
      "{'i': 'tungpust', 'context_i': 2, 'context_j': 2, 'j': 'hypertensjon', 'relation': None}\n",
      "{'i': 'tungpust', 'context_i': 2, 'context_j': 2, 'j': 'medikamentell', 'relation': None}\n",
      "{'i': 'tungpust', 'context_i': 2, 'context_j': 2, 'j': 'behandling', 'relation': None}\n",
      "{'i': 'tungpust', 'context_i': 2, 'context_j': 2, 'j': 'EKG', 'relation': 'XBEFOREY'}\n",
      "{'i': 'tungpust', 'context_i': 2, 'context_j': 2, 'j': 'belastningstest', 'relation': 'XBEFOREY'}\n",
      "{'i': 'hypertensjon', 'context_i': 2, 'context_j': 2, 'j': 'brystsmerter', 'relation': None}\n",
      "{'i': 'hypertensjon', 'context_i': 2, 'context_j': 2, 'j': 'tungpust', 'relation': None}\n",
      "{'i': 'hypertensjon', 'context_i': 2, 'context_j': 2, 'j': 'medikamentell', 'relation': 'XBEFOREY'}\n",
      "{'i': 'hypertensjon', 'context_i': 2, 'context_j': 2, 'j': 'behandling', 'relation': None}\n",
      "{'i': 'hypertensjon', 'context_i': 2, 'context_j': 2, 'j': 'EKG', 'relation': None}\n",
      "{'i': 'hypertensjon', 'context_i': 2, 'context_j': 2, 'j': 'belastningstest', 'relation': None}\n",
      "{'i': 'medikamentell', 'context_i': 2, 'context_j': 2, 'j': 'brystsmerter', 'relation': None}\n",
      "{'i': 'medikamentell', 'context_i': 2, 'context_j': 2, 'j': 'tungpust', 'relation': None}\n",
      "{'i': 'medikamentell', 'context_i': 2, 'context_j': 2, 'j': 'hypertensjon', 'relation': None}\n",
      "{'i': 'medikamentell', 'context_i': 2, 'context_j': 2, 'j': 'behandling', 'relation': None}\n",
      "{'i': 'medikamentell', 'context_i': 2, 'context_j': 2, 'j': 'EKG', 'relation': None}\n",
      "{'i': 'medikamentell', 'context_i': 2, 'context_j': 2, 'j': 'belastningstest', 'relation': None}\n",
      "{'i': 'behandling', 'context_i': 2, 'context_j': 2, 'j': 'brystsmerter', 'relation': None}\n",
      "{'i': 'behandling', 'context_i': 2, 'context_j': 2, 'j': 'tungpust', 'relation': None}\n",
      "{'i': 'behandling', 'context_i': 2, 'context_j': 2, 'j': 'hypertensjon', 'relation': None}\n",
      "{'i': 'behandling', 'context_i': 2, 'context_j': 2, 'j': 'medikamentell', 'relation': None}\n",
      "{'i': 'behandling', 'context_i': 2, 'context_j': 2, 'j': 'EKG', 'relation': None}\n",
      "{'i': 'behandling', 'context_i': 2, 'context_j': 2, 'j': 'belastningstest', 'relation': None}\n",
      "{'i': 'EKG', 'context_i': 2, 'context_j': 2, 'j': 'brystsmerter', 'relation': None}\n",
      "{'i': 'EKG', 'context_i': 2, 'context_j': 2, 'j': 'tungpust', 'relation': None}\n",
      "{'i': 'EKG', 'context_i': 2, 'context_j': 2, 'j': 'hypertensjon', 'relation': None}\n",
      "{'i': 'EKG', 'context_i': 2, 'context_j': 2, 'j': 'medikamentell', 'relation': None}\n",
      "{'i': 'EKG', 'context_i': 2, 'context_j': 2, 'j': 'behandling', 'relation': None}\n",
      "{'i': 'EKG', 'context_i': 2, 'context_j': 2, 'j': 'belastningstest', 'relation': None}\n",
      "{'i': 'belastningstest', 'context_i': 2, 'context_j': 2, 'j': 'brystsmerter', 'relation': None}\n",
      "{'i': 'belastningstest', 'context_i': 2, 'context_j': 2, 'j': 'tungpust', 'relation': None}\n",
      "{'i': 'belastningstest', 'context_i': 2, 'context_j': 2, 'j': 'hypertensjon', 'relation': None}\n",
      "{'i': 'belastningstest', 'context_i': 2, 'context_j': 2, 'j': 'medikamentell', 'relation': None}\n",
      "{'i': 'belastningstest', 'context_i': 2, 'context_j': 2, 'j': 'behandling', 'relation': None}\n",
      "{'i': 'belastningstest', 'context_i': 2, 'context_j': 2, 'j': 'EKG', 'relation': None}\n"
     ]
    }
   ],
   "source": [
    "dataset = []\n",
    "\n",
    "for i, e_i in enumerate(doc_entity.itertuples()):\n",
    "    for j, e_j in enumerate(doc_entity.itertuples()):\n",
    "        if i == j:\n",
    "            continue\n",
    "        relations = doc[(doc['fk_id'] == e_i[1]) & (doc['id'] == e_j[1])]\n",
    "        \n",
    "        if len(relations) == 1:\n",
    "            relation = relations.iloc[0]['Temporal Relation']\n",
    "        else:\n",
    "            relation = None\n",
    "        relation_pair = {\n",
    "            'i': e_i[3],\n",
    "            'context_i': sentences[0].loc[e_i[2]],\n",
    "            'context_j': sentences[0].loc[e_j[2]],\n",
    "            'j': e_j[3],\n",
    "            'relation': relation\n",
    "        }\n",
    "        print(relation_pair)"
   ]
  },
  {
   "cell_type": "code",
   "execution_count": 15,
   "metadata": {},
   "outputs": [
    {
     "ename": "NameError",
     "evalue": "name 'entity_text' is not defined",
     "output_type": "error",
     "traceback": [
      "\u001b[1;31m---------------------------------------------------------------------------\u001b[0m",
      "\u001b[1;31mNameError\u001b[0m                                 Traceback (most recent call last)",
      "Cell \u001b[1;32mIn[15], line 1\u001b[0m\n\u001b[1;32m----> 1\u001b[0m combined_input \u001b[38;5;241m=\u001b[39m \u001b[38;5;124mf\u001b[39m\u001b[38;5;124m\"\u001b[39m\u001b[38;5;132;01m{\u001b[39;00m\u001b[43mentity_text\u001b[49m\u001b[38;5;132;01m}\u001b[39;00m\u001b[38;5;124m: \u001b[39m\u001b[38;5;132;01m{\u001b[39;00mentity_context\u001b[38;5;132;01m}\u001b[39;00m\u001b[38;5;124m [SEP] \u001b[39m\u001b[38;5;132;01m{\u001b[39;00mfk_entity_text\u001b[38;5;132;01m}\u001b[39;00m\u001b[38;5;124m: \u001b[39m\u001b[38;5;132;01m{\u001b[39;00mfk_entity_context\u001b[38;5;132;01m}\u001b[39;00m\u001b[38;5;124m\"\u001b[39m\n",
      "\u001b[1;31mNameError\u001b[0m: name 'entity_text' is not defined"
     ]
    }
   ],
   "source": [
    "combined_input = f\"{entity_text}: {entity_context} [SEP] {fk_entity_text}: {fk_entity_context}\""
   ]
  }
 ],
 "metadata": {
  "kernelspec": {
   "display_name": "master-project-gaKcyLKh-py3.12",
   "language": "python",
   "name": "python3"
  },
  "language_info": {
   "codemirror_mode": {
    "name": "ipython",
    "version": 3
   },
   "file_extension": ".py",
   "mimetype": "text/x-python",
   "name": "python",
   "nbconvert_exporter": "python",
   "pygments_lexer": "ipython3",
   "version": "3.12.6"
  }
 },
 "nbformat": 4,
 "nbformat_minor": 2
}
