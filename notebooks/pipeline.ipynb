{
 "cells": [
  {
   "cell_type": "code",
   "execution_count": 20,
   "metadata": {},
   "outputs": [],
   "source": [
    "import pandas as pd\n",
    "from preprocess.setup import Preprocess\n",
    "from transformers import AutoTokenizer"
   ]
  },
  {
   "cell_type": "code",
   "execution_count": 21,
   "metadata": {},
   "outputs": [],
   "source": [
    "from preprocess.dataset import DatasetManager\n",
    "import os\n",
    "\n",
    "folder_path = \"../data/annotated/\"\n",
    "files = [folder_path + f for f in os.listdir(folder_path) if os.path.isfile(os.path.join(folder_path, f))]\n",
    "manager = DatasetManager(files)"
   ]
  },
  {
   "cell_type": "code",
   "execution_count": 22,
   "metadata": {},
   "outputs": [
    {
     "data": {
      "text/plain": [
       "['../data/annotated/journal.tsv', '../data/annotated/journal-2.tsv']"
      ]
     },
     "execution_count": 22,
     "metadata": {},
     "output_type": "execute_result"
    }
   ],
   "source": [
    "files.reverse()\n",
    "files"
   ]
  },
  {
   "cell_type": "code",
   "execution_count": 23,
   "metadata": {},
   "outputs": [],
   "source": [
    "from structure.enum import Dataset"
   ]
  },
  {
   "cell_type": "code",
   "execution_count": 24,
   "metadata": {},
   "outputs": [],
   "source": [
    "mer = manager.get(Dataset.MER)\n",
    "tre = manager.get(Dataset.TRE)\n",
    "ere = manager.get(Dataset.ERE)"
   ]
  },
  {
   "cell_type": "code",
   "execution_count": 25,
   "metadata": {},
   "outputs": [
    {
     "data": {
      "text/plain": [
       "2"
      ]
     },
     "execution_count": 25,
     "metadata": {},
     "output_type": "execute_result"
    }
   ],
   "source": [
    "len(mer)"
   ]
  },
  {
   "cell_type": "code",
   "execution_count": 26,
   "metadata": {},
   "outputs": [
    {
     "data": {
      "text/html": [
       "<div>\n",
       "<style scoped>\n",
       "    .dataframe tbody tr th:only-of-type {\n",
       "        vertical-align: middle;\n",
       "    }\n",
       "\n",
       "    .dataframe tbody tr th {\n",
       "        vertical-align: top;\n",
       "    }\n",
       "\n",
       "    .dataframe thead th {\n",
       "        text-align: right;\n",
       "    }\n",
       "</style>\n",
       "<table border=\"1\" class=\"dataframe\">\n",
       "  <thead>\n",
       "    <tr style=\"text-align: right;\">\n",
       "      <th></th>\n",
       "      <th>id</th>\n",
       "      <th>sentence_id</th>\n",
       "      <th>Text</th>\n",
       "      <th>Medical Entity</th>\n",
       "    </tr>\n",
       "  </thead>\n",
       "  <tbody>\n",
       "    <tr>\n",
       "      <th>0</th>\n",
       "      <td>1-1</td>\n",
       "      <td>1</td>\n",
       "      <td>Pasienten</td>\n",
       "      <td>O</td>\n",
       "    </tr>\n",
       "    <tr>\n",
       "      <th>1</th>\n",
       "      <td>1-2</td>\n",
       "      <td>1</td>\n",
       "      <td>,</td>\n",
       "      <td>O</td>\n",
       "    </tr>\n",
       "    <tr>\n",
       "      <th>2</th>\n",
       "      <td>1-3</td>\n",
       "      <td>1</td>\n",
       "      <td>57</td>\n",
       "      <td>O</td>\n",
       "    </tr>\n",
       "    <tr>\n",
       "      <th>3</th>\n",
       "      <td>1-4</td>\n",
       "      <td>1</td>\n",
       "      <td>år</td>\n",
       "      <td>O</td>\n",
       "    </tr>\n",
       "    <tr>\n",
       "      <th>4</th>\n",
       "      <td>1-5</td>\n",
       "      <td>1</td>\n",
       "      <td>gammel</td>\n",
       "      <td>O</td>\n",
       "    </tr>\n",
       "    <tr>\n",
       "      <th>5</th>\n",
       "      <td>1-6</td>\n",
       "      <td>1</td>\n",
       "      <td>,</td>\n",
       "      <td>O</td>\n",
       "    </tr>\n",
       "    <tr>\n",
       "      <th>6</th>\n",
       "      <td>1-7</td>\n",
       "      <td>1</td>\n",
       "      <td>kom</td>\n",
       "      <td>O</td>\n",
       "    </tr>\n",
       "    <tr>\n",
       "      <th>7</th>\n",
       "      <td>1-8</td>\n",
       "      <td>1</td>\n",
       "      <td>tilbake</td>\n",
       "      <td>O</td>\n",
       "    </tr>\n",
       "    <tr>\n",
       "      <th>8</th>\n",
       "      <td>1-9</td>\n",
       "      <td>1</td>\n",
       "      <td>for</td>\n",
       "      <td>O</td>\n",
       "    </tr>\n",
       "    <tr>\n",
       "      <th>9</th>\n",
       "      <td>1-10</td>\n",
       "      <td>1</td>\n",
       "      <td>oppfølging</td>\n",
       "      <td>O</td>\n",
       "    </tr>\n",
       "    <tr>\n",
       "      <th>10</th>\n",
       "      <td>1-11</td>\n",
       "      <td>1</td>\n",
       "      <td>den</td>\n",
       "      <td>O</td>\n",
       "    </tr>\n",
       "    <tr>\n",
       "      <th>11</th>\n",
       "      <td>1-12</td>\n",
       "      <td>1</td>\n",
       "      <td>20</td>\n",
       "      <td>O</td>\n",
       "    </tr>\n",
       "    <tr>\n",
       "      <th>12</th>\n",
       "      <td>1-13</td>\n",
       "      <td>1</td>\n",
       "      <td>.</td>\n",
       "      <td>O</td>\n",
       "    </tr>\n",
       "    <tr>\n",
       "      <th>13</th>\n",
       "      <td>1-14</td>\n",
       "      <td>1</td>\n",
       "      <td>november</td>\n",
       "      <td>O</td>\n",
       "    </tr>\n",
       "    <tr>\n",
       "      <th>14</th>\n",
       "      <td>1-15</td>\n",
       "      <td>1</td>\n",
       "      <td>2024</td>\n",
       "      <td>O</td>\n",
       "    </tr>\n",
       "    <tr>\n",
       "      <th>15</th>\n",
       "      <td>1-16</td>\n",
       "      <td>1</td>\n",
       "      <td>,</td>\n",
       "      <td>O</td>\n",
       "    </tr>\n",
       "    <tr>\n",
       "      <th>16</th>\n",
       "      <td>1-17</td>\n",
       "      <td>1</td>\n",
       "      <td>etter</td>\n",
       "      <td>O</td>\n",
       "    </tr>\n",
       "    <tr>\n",
       "      <th>17</th>\n",
       "      <td>1-18</td>\n",
       "      <td>1</td>\n",
       "      <td>å</td>\n",
       "      <td>O</td>\n",
       "    </tr>\n",
       "    <tr>\n",
       "      <th>18</th>\n",
       "      <td>1-19</td>\n",
       "      <td>1</td>\n",
       "      <td>ha</td>\n",
       "      <td>O</td>\n",
       "    </tr>\n",
       "    <tr>\n",
       "      <th>19</th>\n",
       "      <td>1-20</td>\n",
       "      <td>1</td>\n",
       "      <td>gjennomgått</td>\n",
       "      <td>O</td>\n",
       "    </tr>\n",
       "  </tbody>\n",
       "</table>\n",
       "</div>"
      ],
      "text/plain": [
       "      id  sentence_id         Text Medical Entity\n",
       "0    1-1            1    Pasienten              O\n",
       "1    1-2            1            ,              O\n",
       "2    1-3            1           57              O\n",
       "3    1-4            1           år              O\n",
       "4    1-5            1       gammel              O\n",
       "5    1-6            1            ,              O\n",
       "6    1-7            1          kom              O\n",
       "7    1-8            1      tilbake              O\n",
       "8    1-9            1          for              O\n",
       "9   1-10            1   oppfølging              O\n",
       "10  1-11            1          den              O\n",
       "11  1-12            1           20              O\n",
       "12  1-13            1            .              O\n",
       "13  1-14            1     november              O\n",
       "14  1-15            1         2024              O\n",
       "15  1-16            1            ,              O\n",
       "16  1-17            1        etter              O\n",
       "17  1-18            1            å              O\n",
       "18  1-19            1           ha              O\n",
       "19  1-20            1  gjennomgått              O"
      ]
     },
     "execution_count": 26,
     "metadata": {},
     "output_type": "execute_result"
    }
   ],
   "source": [
    "mer[0].head(20)"
   ]
  },
  {
   "cell_type": "code",
   "execution_count": 27,
   "metadata": {},
   "outputs": [
    {
     "data": {
      "text/html": [
       "<div>\n",
       "<style scoped>\n",
       "    .dataframe tbody tr th:only-of-type {\n",
       "        vertical-align: middle;\n",
       "    }\n",
       "\n",
       "    .dataframe tbody tr th {\n",
       "        vertical-align: top;\n",
       "    }\n",
       "\n",
       "    .dataframe thead th {\n",
       "        text-align: right;\n",
       "    }\n",
       "</style>\n",
       "<table border=\"1\" class=\"dataframe\">\n",
       "  <thead>\n",
       "    <tr style=\"text-align: right;\">\n",
       "      <th></th>\n",
       "      <th>id</th>\n",
       "      <th>Text</th>\n",
       "      <th>Temporal Relation</th>\n",
       "      <th>fk_id</th>\n",
       "    </tr>\n",
       "  </thead>\n",
       "  <tbody>\n",
       "    <tr>\n",
       "      <th>22</th>\n",
       "      <td>1-23</td>\n",
       "      <td>belastningstest</td>\n",
       "      <td>XDURINGY</td>\n",
       "      <td>1-21</td>\n",
       "    </tr>\n",
       "    <tr>\n",
       "      <th>30</th>\n",
       "      <td>2-5</td>\n",
       "      <td>iskemi</td>\n",
       "      <td>XBEFOREY</td>\n",
       "      <td>1-23</td>\n",
       "    </tr>\n",
       "    <tr>\n",
       "      <th>31</th>\n",
       "      <td>2-5</td>\n",
       "      <td>iskemi</td>\n",
       "      <td>XBEFOREY</td>\n",
       "      <td>1-21</td>\n",
       "    </tr>\n",
       "    <tr>\n",
       "      <th>41</th>\n",
       "      <td>2-15</td>\n",
       "      <td>koronarsykdom .</td>\n",
       "      <td>XBEFOREY</td>\n",
       "      <td>2-5</td>\n",
       "    </tr>\n",
       "    <tr>\n",
       "      <th>119</th>\n",
       "      <td>6-20</td>\n",
       "      <td>koronar angiografi</td>\n",
       "      <td>XBEFOREY</td>\n",
       "      <td>4-9</td>\n",
       "    </tr>\n",
       "    <tr>\n",
       "      <th>132</th>\n",
       "      <td>7-7</td>\n",
       "      <td>acetylsalisylsyre</td>\n",
       "      <td>XBEFOREY</td>\n",
       "      <td>4-9</td>\n",
       "    </tr>\n",
       "    <tr>\n",
       "      <th>133</th>\n",
       "      <td>7-7</td>\n",
       "      <td>acetylsalisylsyre</td>\n",
       "      <td>XBEFOREY</td>\n",
       "      <td>2-5</td>\n",
       "    </tr>\n",
       "    <tr>\n",
       "      <th>138</th>\n",
       "      <td>7-12</td>\n",
       "      <td>simvastatin</td>\n",
       "      <td>XBEFOREY</td>\n",
       "      <td>4-9</td>\n",
       "    </tr>\n",
       "    <tr>\n",
       "      <th>139</th>\n",
       "      <td>7-12</td>\n",
       "      <td>simvastatin</td>\n",
       "      <td>XBEFOREY</td>\n",
       "      <td>2-5</td>\n",
       "    </tr>\n",
       "  </tbody>\n",
       "</table>\n",
       "</div>"
      ],
      "text/plain": [
       "       id                Text Temporal Relation fk_id\n",
       "22   1-23     belastningstest          XDURINGY  1-21\n",
       "30    2-5              iskemi          XBEFOREY  1-23\n",
       "31    2-5              iskemi          XBEFOREY  1-21\n",
       "41   2-15     koronarsykdom .          XBEFOREY   2-5\n",
       "119  6-20  koronar angiografi          XBEFOREY   4-9\n",
       "132   7-7   acetylsalisylsyre          XBEFOREY   4-9\n",
       "133   7-7   acetylsalisylsyre          XBEFOREY   2-5\n",
       "138  7-12         simvastatin          XBEFOREY   4-9\n",
       "139  7-12         simvastatin          XBEFOREY   2-5"
      ]
     },
     "execution_count": 27,
     "metadata": {},
     "output_type": "execute_result"
    }
   ],
   "source": [
    "tre[0][tre[0]['Temporal Relation'].notna()]"
   ]
  },
  {
   "cell_type": "code",
   "execution_count": 28,
   "metadata": {},
   "outputs": [
    {
     "data": {
      "text/html": [
       "<div>\n",
       "<style scoped>\n",
       "    .dataframe tbody tr th:only-of-type {\n",
       "        vertical-align: middle;\n",
       "    }\n",
       "\n",
       "    .dataframe tbody tr th {\n",
       "        vertical-align: top;\n",
       "    }\n",
       "\n",
       "    .dataframe thead th {\n",
       "        text-align: right;\n",
       "    }\n",
       "</style>\n",
       "<table border=\"1\" class=\"dataframe\">\n",
       "  <thead>\n",
       "    <tr style=\"text-align: right;\">\n",
       "      <th></th>\n",
       "      <th>id</th>\n",
       "      <th>Text</th>\n",
       "      <th>Temporal Relation</th>\n",
       "      <th>fk_id</th>\n",
       "    </tr>\n",
       "  </thead>\n",
       "  <tbody>\n",
       "    <tr>\n",
       "      <th>138</th>\n",
       "      <td>7-12</td>\n",
       "      <td>simvastatin</td>\n",
       "      <td>XBEFOREY</td>\n",
       "      <td>4-9</td>\n",
       "    </tr>\n",
       "    <tr>\n",
       "      <th>139</th>\n",
       "      <td>7-12</td>\n",
       "      <td>simvastatin</td>\n",
       "      <td>XBEFOREY</td>\n",
       "      <td>2-5</td>\n",
       "    </tr>\n",
       "  </tbody>\n",
       "</table>\n",
       "</div>"
      ],
      "text/plain": [
       "       id         Text Temporal Relation fk_id\n",
       "138  7-12  simvastatin          XBEFOREY   4-9\n",
       "139  7-12  simvastatin          XBEFOREY   2-5"
      ]
     },
     "execution_count": 28,
     "metadata": {},
     "output_type": "execute_result"
    }
   ],
   "source": [
    "i = 0\n",
    "tre_doc = tre[i][tre[i]['Temporal Relation'].notna()]\n",
    "tre_doc[tre_doc['id'] == '7-12']"
   ]
  },
  {
   "cell_type": "code",
   "execution_count": 29,
   "metadata": {},
   "outputs": [
    {
     "data": {
      "text/html": [
       "<div>\n",
       "<style scoped>\n",
       "    .dataframe tbody tr th:only-of-type {\n",
       "        vertical-align: middle;\n",
       "    }\n",
       "\n",
       "    .dataframe tbody tr th {\n",
       "        vertical-align: top;\n",
       "    }\n",
       "\n",
       "    .dataframe thead th {\n",
       "        text-align: right;\n",
       "    }\n",
       "</style>\n",
       "<table border=\"1\" class=\"dataframe\">\n",
       "  <thead>\n",
       "    <tr style=\"text-align: right;\">\n",
       "      <th></th>\n",
       "      <th>id</th>\n",
       "      <th>Text</th>\n",
       "      <th>Entity Relation</th>\n",
       "      <th>fk_id</th>\n",
       "    </tr>\n",
       "  </thead>\n",
       "  <tbody>\n",
       "    <tr>\n",
       "      <th>138</th>\n",
       "      <td>7-12</td>\n",
       "      <td>simvastatin</td>\n",
       "      <td>SYMPTOMTOEVENT</td>\n",
       "      <td>4-9</td>\n",
       "    </tr>\n",
       "    <tr>\n",
       "      <th>139</th>\n",
       "      <td>7-12</td>\n",
       "      <td>simvastatin</td>\n",
       "      <td>SYMPTOMTOEVENT</td>\n",
       "      <td>2-5</td>\n",
       "    </tr>\n",
       "  </tbody>\n",
       "</table>\n",
       "</div>"
      ],
      "text/plain": [
       "       id         Text Entity Relation fk_id\n",
       "138  7-12  simvastatin  SYMPTOMTOEVENT   4-9\n",
       "139  7-12  simvastatin  SYMPTOMTOEVENT   2-5"
      ]
     },
     "execution_count": 29,
     "metadata": {},
     "output_type": "execute_result"
    }
   ],
   "source": [
    "i = 0\n",
    "ere_doc = ere[i][ere[i]['Entity Relation'].notna()]\n",
    "ere_doc[ere_doc['id'] == '7-12']"
   ]
  },
  {
   "cell_type": "code",
   "execution_count": null,
   "metadata": {},
   "outputs": [],
   "source": []
  },
  {
   "cell_type": "code",
   "execution_count": 30,
   "metadata": {},
   "outputs": [
    {
     "name": "stdout",
     "output_type": "stream",
     "text": [
      "Pandas(Index=22, id='1-23', Text='belastningstest', _3='XDURINGY', fk_id='1-21')\n",
      "Pandas(Index=31, id='2-5', Text='iskemi', _3='XBEFOREY', fk_id='1-21')\n",
      "Pandas(Index=30, id='2-5', Text='iskemi', _3='XBEFOREY', fk_id='1-23')\n",
      "Pandas(Index=41, id='2-15', Text='koronarsykdom .', _3='XBEFOREY', fk_id='2-5')\n",
      "Pandas(Index=133, id='7-7', Text='acetylsalisylsyre', _3='XBEFOREY', fk_id='2-5')\n",
      "Pandas(Index=139, id='7-12', Text='simvastatin', _3='XBEFOREY', fk_id='2-5')\n",
      "Pandas(Index=119, id='6-20', Text='koronar angiografi', _3='XBEFOREY', fk_id='4-9')\n",
      "Pandas(Index=132, id='7-7', Text='acetylsalisylsyre', _3='XBEFOREY', fk_id='4-9')\n",
      "Pandas(Index=138, id='7-12', Text='simvastatin', _3='XBEFOREY', fk_id='4-9')\n",
      "Pandas(Index=71, id='5-6', Text='tungpust', _3='XDURINGY', fk_id='3-8')\n",
      "Pandas(Index=164, id='10-8', Text='EKG', _3='XBEFOREY', fk_id='3-8')\n",
      "Pandas(Index=167, id='10-10', Text='belastningstest', _3='XBEFOREY', fk_id='3-8')\n",
      "Pandas(Index=165, id='10-8', Text='EKG', _3='XBEFOREY', fk_id='5-6')\n",
      "Pandas(Index=168, id='10-10', Text='belastningstest', _3='XBEFOREY', fk_id='5-6')\n",
      "Pandas(Index=90, id='6-8', Text='medikamentell behandling', _3='XBEFOREY', fk_id='6-4')\n"
     ]
    }
   ],
   "source": [
    "import datetime\n",
    "from structure.node import Node\n",
    "from structure.relation import Relation\n",
    "\n",
    "docs = []\n",
    "\n",
    "for i, doc in enumerate(mer):\n",
    "    entities = []\n",
    "    for entity in mer[i].itertuples():\n",
    "        if i == 0:\n",
    "            date = datetime.datetime(2020, 5, 17)\n",
    "        else:\n",
    "            date = datetime.datetime(2020, 5, 15)\n",
    "        x = Node(entity[3], entity[4], '', date, [], str(i)+entity[1])\n",
    "        entities.append(x)\n",
    "        \n",
    "    for entity in entities:\n",
    "        \n",
    "        tre_doc = tre[i][tre[i]['Temporal Relation'].notna()]\n",
    "        tr_relations = tre_doc[tre_doc['fk_id'] == entity.id[1:]]\n",
    "        \n",
    "        for rel in tr_relations.itertuples():\n",
    "            print(rel)\n",
    "            for y_ent in entities:\n",
    "                if y_ent.id == str(i) + rel[1]:\n",
    "                    entity.relations.append(Relation(entity, y_ent, rel[3], ere[i].loc[rel[0]]['Entity Relation']))\n",
    "                    break\n",
    "    docs.append(entities)\n",
    "\n",
    "rel_entities = []\n",
    "for doc in docs:\n",
    "    entities = []\n",
    "    for entity in doc:\n",
    "        if entity.type is not None:\n",
    "            entities.append(entity)\n",
    "    rel_entities.append(entities)"
   ]
  },
  {
   "cell_type": "code",
   "execution_count": 105,
   "metadata": {},
   "outputs": [],
   "source": [
    "from structure.enum import TR, ER\n",
    "\n",
    "def find_duplicates(rel_entities, across=False):\n",
    "    ### Across: True, makes edges betweent hem instead\n",
    "    duplicates = []\n",
    "    for i, ent_i in enumerate(rel_entities):\n",
    "        for j in range(i + 1, len(rel_entities)):  # Avoid redundant comparisons\n",
    "            ent_j = rel_entities[j]\n",
    "            if ent_i.value == ent_j.value and ent_i.type == ent_j.type:\n",
    "                if across:\n",
    "                    rel_entities[i].relations.append(Relation(ent_i, ent_j, 'XDURINGY', 'EQUAL'))\n",
    "                else:\n",
    "                    duplicates.append(j)\n",
    "                    rel_entities[j].id = ent_i.id\n",
    "                    for rel in ent_j.relations:\n",
    "                        rel.x = ent_i\n",
    "                        ent_i.relations.append(rel)\n",
    "    return duplicates\n",
    "\n",
    "def remove_duplicates(rel_entities, duplicates):\n",
    "    # Sort and remove duplicates in reverse to avoid index shift issues\n",
    "    duplicates = list(set(duplicates))\n",
    "    duplicates.sort(reverse=True)\n",
    "    for index in duplicates:\n",
    "        del rel_entities[index]  # Remove by index directly\n",
    "    return rel_entities\n",
    "\n",
    "### Remove local duplicates\n",
    "for i, doc in enumerate(rel_entities):\n",
    "    duplicates = find_duplicates(doc)\n",
    "    rel_entities[i] = remove_duplicates(doc, duplicates)\n",
    "    \n",
    "### add edges between duplicates across documents\n",
    "for i in range(len(rel_entities)-1):\n",
    "    check_entities = []\n",
    "    if i != 0:\n",
    "        \n",
    "        check_entities = rel_entities[i-1]\n",
    "        check_entities = check_entities + rel_entities[i]\n",
    "        duplicates = find_duplicates(check_entities, False)\n",
    "        rel_entities[i-1] = remove_duplicates(rel_entities[i-1], [j for j in duplicates if j < len(rel_entities[i-1])])\n",
    "        rel_entities[i] = remove_duplicates(rel_entities[i], [j - len(rel_entities[i-1]) for j in duplicates if j >= len(rel_entities[i-1])])\n",
    "    \n",
    "    check_entities = rel_entities[i] + rel_entities[i+1]\n",
    "    duplicates = find_duplicates(check_entities, False)\n",
    "    rel_entities[i] = remove_duplicates(rel_entities[i], [j for j in duplicates if j < len(rel_entities[i])])\n",
    "    rel_entities[i+1] = remove_duplicates(rel_entities[i+1], [j - len(rel_entities[i]) for j in duplicates if j >= len(rel_entities[i])])\n",
    "    \n",
    "    "
   ]
  },
  {
   "cell_type": "code",
   "execution_count": 32,
   "metadata": {},
   "outputs": [],
   "source": [
    "all_entities = []\n",
    "for doc in rel_entities:\n",
    "    all_entities = all_entities + doc"
   ]
  },
  {
   "cell_type": "code",
   "execution_count": 107,
   "metadata": {},
   "outputs": [
    {
     "name": "stdout",
     "output_type": "stream",
     "text": [
      "Warning: When  cdn_resources is 'local' jupyter notebook has issues displaying graphics on chrome/safari. Use cdn_resources='in_line' or cdn_resources='remote' if you have issues viewing graphics in a notebook.\n",
      "simple_network.html\n"
     ]
    },
    {
     "data": {
      "text/html": [
       "\n",
       "        <iframe\n",
       "            width=\"100%\"\n",
       "            height=\"500px\"\n",
       "            src=\"simple_network.html\"\n",
       "            frameborder=\"0\"\n",
       "            allowfullscreen\n",
       "            \n",
       "        ></iframe>\n",
       "        "
      ],
      "text/plain": [
       "<IPython.lib.display.IFrame at 0x223ff712270>"
      ]
     },
     "execution_count": 107,
     "metadata": {},
     "output_type": "execute_result"
    }
   ],
   "source": [
    "## Expected document ordered by date\n",
    "from pyvis.network import Network\n",
    "from structure.enum import ME, TR\n",
    "\n",
    "net = Network(\n",
    "    notebook=True, \n",
    "    height=\"500px\", \n",
    "    width=\"100%\", \n",
    "    bgcolor=\"#222222\", \n",
    "    font_color=\"white\", \n",
    "    directed=True, \n",
    "    neighborhood_highlight=True, \n",
    "    filter_menu=True,\n",
    "    layout=True\n",
    ")\n",
    "\n",
    "for entity in all_entities:\n",
    "    \n",
    "    match entity.type:\n",
    "        case ME.CONDITION:\n",
    "            color = '#F05D5E'\n",
    "        case ME.EVENT:\n",
    "            color = '#8390FA'\n",
    "        case ME.SYMPTOM:\n",
    "            color = '#FAC748'\n",
    "        case _:\n",
    "            color = 'grey'\n",
    "        \n",
    "    net.add_node(entity.id, entity.value, color=color, title=entity.type.name)\n",
    "    i+=1\n",
    "    \n",
    "for entity in all_entities:\n",
    "    for rel in entity.relations:\n",
    "        if rel.tr != TR.XDURINGY:\n",
    "            net.add_edge(entity.id, rel.y.id, title=rel.er.name if rel.er is not None else '')\n",
    "        else:\n",
    "            if rel.er == ER.EQUAL:\n",
    "                color='grey'\n",
    "                net.add_edge(entity.id, rel.y.id, color=color, title=rel.er.name if rel.er is not None else '')\n",
    "\n",
    "# net.show_buttons(filter_=['renderer', 'layout'])\n",
    "# Enable physics\n",
    "net.toggle_physics(True)\n",
    "\n",
    "# Show the graph and embed it in the notebook\n",
    "html_file = \"simple_network.html\"\n",
    "net.show(html_file)"
   ]
  },
  {
   "cell_type": "code",
   "execution_count": 108,
   "metadata": {},
   "outputs": [],
   "source": [
    "from pypdf import PdfReader"
   ]
  },
  {
   "cell_type": "code",
   "execution_count": 109,
   "metadata": {},
   "outputs": [
    {
     "name": "stderr",
     "output_type": "stream",
     "text": [
      "Ignoring wrong pointing object 6 0 (offset 0)\n"
     ]
    }
   ],
   "source": [
    "reader = PdfReader('../data/journal.pdf')"
   ]
  },
  {
   "cell_type": "code",
   "execution_count": null,
   "metadata": {},
   "outputs": [
    {
     "name": "stdout",
     "output_type": "stream",
     "text": [
      "Pasienten, en 57 år gammel mann, møtte til konsultasjon på fastlegekontoret den 12. november 2024. Han oppsøkte lege på grunn av vedvarende brystsmerter som har vart i omtrent to uker, spesielt ved fysisk aktivitet som trappegang og lett jogging. Smertene beskrives som trykkende og stråler ut til venstre arm, men de gir seg ved hvile etter noen minutter. Pasienten har også opplevd økt tungpust de siste månedene, noe som har begrenset aktivitetsnivået hans.  Pasienten har kjent hypertensjon og står på medikamentell behandling med enalapril 10 mg daglig. Han har ingen kjent hjertesykdom i familiehistorien, men han er tidligere storrøyker og sluttet for cirka fem år siden. Han har en BMI på 29,5, og blodtrykket ved konsultasjonen var målt til 148/92 mmHg.  Ved undersøkelsen ble det påvist regelmessig hjerterytme uten bilyder, men det er indikasjon på mulig redusert fysisk toleranse. Det ble avtalt å henvise pasienten til EKG og belastningstest for nærmere vurdering av eventuell angina pectoris. Pasienten ble også anbefalt å øke fysisk aktivitet gradvis og følge en kostholdsplan med vekt på redusert mettet fett og økt inntak av ﬁber. Videre oppfølging avtales etter at testresultatene foreligger.       \n"
     ]
    }
   ],
   "source": [
    "text = ''\n",
    "for page in reader.pages:\n",
    "    text += page.extract_text()"
   ]
  }
 ],
 "metadata": {
  "kernelspec": {
   "display_name": "master-project-gaKcyLKh-py3.12",
   "language": "python",
   "name": "python3"
  },
  "language_info": {
   "codemirror_mode": {
    "name": "ipython",
    "version": 3
   },
   "file_extension": ".py",
   "mimetype": "text/x-python",
   "name": "python",
   "nbconvert_exporter": "python",
   "pygments_lexer": "ipython3",
   "version": "3.12.6"
  }
 },
 "nbformat": 4,
 "nbformat_minor": 2
}
