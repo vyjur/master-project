{
 "cells": [
  {
   "cell_type": "code",
   "execution_count": 10,
   "metadata": {},
   "outputs": [],
   "source": [
    "import pandas as pd\n",
    "from preprocess.setup import Preprocess\n",
    "from transformers import AutoTokenizer"
   ]
  },
  {
   "cell_type": "code",
   "execution_count": 31,
   "metadata": {},
   "outputs": [],
   "source": [
    "text = \"Pasienten har også opplevd økt tungpust og hoste de siste månedene, noe som har begrenset aktivitetsnivået hans. Han vil bli behandlet med EKG snarest. Pasienten har også opplevd økt tungpust og hoste de siste månedene, noe som har begrenset aktivitetsnivået hans. Han vil bli behandlet med EKG snarest.\""
   ]
  },
  {
   "cell_type": "code",
   "execution_count": 32,
   "metadata": {},
   "outputs": [],
   "source": [
    "checkpoint = \"ltg/norbert3-small\"\n",
    "tokenizer = AutoTokenizer.from_pretrained(checkpoint)\n",
    "preprocess = Preprocess(tokenizer, 100, 0.8)"
   ]
  },
  {
   "cell_type": "code",
   "execution_count": 33,
   "metadata": {},
   "outputs": [],
   "source": [
    "output = preprocess.run(text)"
   ]
  },
  {
   "cell_type": "code",
   "execution_count": 46,
   "metadata": {},
   "outputs": [
    {
     "data": {
      "text/plain": [
       "[Encoding(num_tokens=100, attributes=[ids, type_ids, tokens, offsets, attention_mask, special_tokens_mask, overflowing])]"
      ]
     },
     "execution_count": 46,
     "metadata": {},
     "output_type": "execute_result"
    }
   ],
   "source": [
    "output"
   ]
  },
  {
   "cell_type": "code",
   "execution_count": 35,
   "metadata": {},
   "outputs": [],
   "source": [
    "mer_output = [['O', 'O', 'O', 'O', 'O', 'O', 'B-SYMPTOM', 'I-SYMPTOM', 'I-SYMPTOM', 'O', 'B-SYMPTOM', 'O', 'O', 'O', 'O', 'O', 'O', 'O', 'O', 'O', 'O', 'O', 'O', 'O', 'O', 'O', 'O', 'B-EVENT', 'I-EVENT', 'O', 'O', 'O', 'O', 'O', 'O', 'O', 'O', 'O', 'O', 'O', 'O', 'B-SYMPTOM', 'I-SYMPTOM', 'I-SYMPTOM', 'O', 'B-SYMPTOM', 'O', 'O', 'O', 'O', 'O', 'O', 'O', 'O', 'O', 'O', 'O', 'O', 'O', 'O']]"
   ]
  },
  {
   "cell_type": "code",
   "execution_count": null,
   "metadata": {},
   "outputs": [
    {
     "name": "stdout",
     "output_type": "stream",
     "text": [
      "[(6, 9), (10, 11), (27, 29), (41, 44), (45, 46)]\n"
     ]
    },
    {
     "data": {
      "text/plain": [
       "[('tungpust',\n",
       "  ' Pasienten har også opplevd økt tungpust og hoste de siste månedene, noe som har begrenset aktivitetsnivået hans.'),\n",
       " ('hoste',\n",
       "  ' Pasienten har også opplevd økt tungpust og hoste de siste månedene, noe som har begrenset aktivitetsnivået hans.'),\n",
       " ('EKG', ' Han vil bli behandlet med EKG snarest.'),\n",
       " ('de siste månedene',\n",
       "  ' Pasienten har også opplevd økt tungpust og hoste de siste månedene, noe som har begrenset aktivitetsnivået hans.'),\n",
       " ('noe',\n",
       "  ' Pasienten har også opplevd økt tungpust og hoste de siste månedene, noe som har begrenset aktivitetsnivået hans.')]"
      ]
     },
     "execution_count": 44,
     "metadata": {},
     "output_type": "execute_result"
    }
   ],
   "source": [
    "def get_non_o_intervals(lst):\n",
    "    intervals = []\n",
    "    start = None\n",
    "    \n",
    "    for i, value in enumerate(lst):\n",
    "        if value != 'O' and (start is None or not value.startswith('B')):\n",
    "            if start is None:  # Starting a new interval\n",
    "                start = i\n",
    "        else:\n",
    "            if start is not None:  # Closing an existing interval\n",
    "                intervals.append((start, i))\n",
    "                start = None\n",
    "    \n",
    "    # If the last element is part of an interval\n",
    "    if start is not None:\n",
    "        intervals.append((start, len(lst) - 1))\n",
    "    \n",
    "    return intervals\n",
    "\n",
    "result = get_non_o_intervals(mer_output[0])\n",
    "\n",
    "print(result)\n",
    "\n",
    "entities = []\n",
    "start = 0\n",
    "offset = 0\n",
    "for int in result:\n",
    "    entity = preprocess.decode(output[0].ids[int[0]:int[1]]).strip()\n",
    "    found = -1\n",
    "    while found == -1 and len(output[0].ids[0:int[1]+offset]) != len(output[0].ids):\n",
    "        offset += 1\n",
    "        context = preprocess.decode(output[0].ids[start:int[1]+offset])\n",
    "        found = context.find('.')\n",
    "        if -1 < found < context.find(entity):\n",
    "            start = start + 1\n",
    "            offset = offset - 1\n",
    "            found = -1\n",
    "    offset = 0\n",
    "    context = context.replace('[CLS]', '').replace('[SEP]', '').replace('[PAD]', '')\n",
    "    entities.append((entity, context))\n",
    "    \n",
    "entities"
   ]
  },
  {
   "cell_type": "code",
   "execution_count": 45,
   "metadata": {},
   "outputs": [
    {
     "data": {
      "text/plain": [
       "['tungpust:  Pasienten har også opplevd økt tungpust og hoste de siste månedene, noe som har begrenset aktivitetsnivået hans. [SEP] hoste:  Pasienten har også opplevd økt tungpust og hoste de siste månedene, noe som har begrenset aktivitetsnivået hans.',\n",
       " 'tungpust:  Pasienten har også opplevd økt tungpust og hoste de siste månedene, noe som har begrenset aktivitetsnivået hans. [SEP] EKG:  Han vil bli behandlet med EKG snarest.',\n",
       " 'tungpust:  Pasienten har også opplevd økt tungpust og hoste de siste månedene, noe som har begrenset aktivitetsnivået hans. [SEP] de siste månedene:  Pasienten har også opplevd økt tungpust og hoste de siste månedene, noe som har begrenset aktivitetsnivået hans.',\n",
       " 'tungpust:  Pasienten har også opplevd økt tungpust og hoste de siste månedene, noe som har begrenset aktivitetsnivået hans. [SEP] noe:  Pasienten har også opplevd økt tungpust og hoste de siste månedene, noe som har begrenset aktivitetsnivået hans.',\n",
       " 'hoste:  Pasienten har også opplevd økt tungpust og hoste de siste månedene, noe som har begrenset aktivitetsnivået hans. [SEP] tungpust:  Pasienten har også opplevd økt tungpust og hoste de siste månedene, noe som har begrenset aktivitetsnivået hans.',\n",
       " 'hoste:  Pasienten har også opplevd økt tungpust og hoste de siste månedene, noe som har begrenset aktivitetsnivået hans. [SEP] EKG:  Han vil bli behandlet med EKG snarest.',\n",
       " 'hoste:  Pasienten har også opplevd økt tungpust og hoste de siste månedene, noe som har begrenset aktivitetsnivået hans. [SEP] de siste månedene:  Pasienten har også opplevd økt tungpust og hoste de siste månedene, noe som har begrenset aktivitetsnivået hans.',\n",
       " 'hoste:  Pasienten har også opplevd økt tungpust og hoste de siste månedene, noe som har begrenset aktivitetsnivået hans. [SEP] noe:  Pasienten har også opplevd økt tungpust og hoste de siste månedene, noe som har begrenset aktivitetsnivået hans.',\n",
       " 'EKG:  Han vil bli behandlet med EKG snarest. [SEP] tungpust:  Pasienten har også opplevd økt tungpust og hoste de siste månedene, noe som har begrenset aktivitetsnivået hans.',\n",
       " 'EKG:  Han vil bli behandlet med EKG snarest. [SEP] hoste:  Pasienten har også opplevd økt tungpust og hoste de siste månedene, noe som har begrenset aktivitetsnivået hans.',\n",
       " 'EKG:  Han vil bli behandlet med EKG snarest. [SEP] de siste månedene:  Pasienten har også opplevd økt tungpust og hoste de siste månedene, noe som har begrenset aktivitetsnivået hans.',\n",
       " 'EKG:  Han vil bli behandlet med EKG snarest. [SEP] noe:  Pasienten har også opplevd økt tungpust og hoste de siste månedene, noe som har begrenset aktivitetsnivået hans.',\n",
       " 'de siste månedene:  Pasienten har også opplevd økt tungpust og hoste de siste månedene, noe som har begrenset aktivitetsnivået hans. [SEP] tungpust:  Pasienten har også opplevd økt tungpust og hoste de siste månedene, noe som har begrenset aktivitetsnivået hans.',\n",
       " 'de siste månedene:  Pasienten har også opplevd økt tungpust og hoste de siste månedene, noe som har begrenset aktivitetsnivået hans. [SEP] hoste:  Pasienten har også opplevd økt tungpust og hoste de siste månedene, noe som har begrenset aktivitetsnivået hans.',\n",
       " 'de siste månedene:  Pasienten har også opplevd økt tungpust og hoste de siste månedene, noe som har begrenset aktivitetsnivået hans. [SEP] EKG:  Han vil bli behandlet med EKG snarest.',\n",
       " 'de siste månedene:  Pasienten har også opplevd økt tungpust og hoste de siste månedene, noe som har begrenset aktivitetsnivået hans. [SEP] noe:  Pasienten har også opplevd økt tungpust og hoste de siste månedene, noe som har begrenset aktivitetsnivået hans.',\n",
       " 'noe:  Pasienten har også opplevd økt tungpust og hoste de siste månedene, noe som har begrenset aktivitetsnivået hans. [SEP] tungpust:  Pasienten har også opplevd økt tungpust og hoste de siste månedene, noe som har begrenset aktivitetsnivået hans.',\n",
       " 'noe:  Pasienten har også opplevd økt tungpust og hoste de siste månedene, noe som har begrenset aktivitetsnivået hans. [SEP] hoste:  Pasienten har også opplevd økt tungpust og hoste de siste månedene, noe som har begrenset aktivitetsnivået hans.',\n",
       " 'noe:  Pasienten har også opplevd økt tungpust og hoste de siste månedene, noe som har begrenset aktivitetsnivået hans. [SEP] EKG:  Han vil bli behandlet med EKG snarest.',\n",
       " 'noe:  Pasienten har også opplevd økt tungpust og hoste de siste månedene, noe som har begrenset aktivitetsnivået hans. [SEP] de siste månedene:  Pasienten har også opplevd økt tungpust og hoste de siste månedene, noe som har begrenset aktivitetsnivået hans.']"
      ]
     },
     "execution_count": 45,
     "metadata": {},
     "output_type": "execute_result"
    }
   ],
   "source": [
    "inputs = []\n",
    "\n",
    "for i, e_i in enumerate(entities):\n",
    "    for j, e_j in enumerate(entities):\n",
    "        if i == j:\n",
    "            continue\n",
    "        inputs.append(f\"{e_i[0]}: {e_i[1]} [SEP] {e_j[0]}: {e_j[1]}\")\n",
    "        \n",
    "inputs"
   ]
  }
 ],
 "metadata": {
  "kernelspec": {
   "display_name": "master-project-gaKcyLKh-py3.12",
   "language": "python",
   "name": "python3"
  },
  "language_info": {
   "codemirror_mode": {
    "name": "ipython",
    "version": 3
   },
   "file_extension": ".py",
   "mimetype": "text/x-python",
   "name": "python",
   "nbconvert_exporter": "python",
   "pygments_lexer": "ipython3",
   "version": "3.12.6"
  }
 },
 "nbformat": 4,
 "nbformat_minor": 2
}
