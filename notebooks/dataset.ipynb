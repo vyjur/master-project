{
 "cells": [
  {
   "cell_type": "code",
   "execution_count": null,
   "metadata": {},
   "outputs": [],
   "source": [
    "import pandas as pd\n",
    "import os\n",
    "from preprocess.dataset import DatasetManager\n",
    "\n",
    "folder_path = \"./data/annotated/\"\n",
    "files = [\n",
    "    folder_path + f\n",
    "    for f in os.listdir(folder_path)\n",
    "    if os.path.isfile(os.path.join(folder_path, f))\n",
    "]\n",
    "manager = DatasetManager(files)"
   ]
  }
 ],
 "metadata": {
  "kernelspec": {
   "display_name": "master-project-gaKcyLKh-py3.12",
   "language": "python",
   "name": "python3"
  },
  "language_info": {
   "name": "python",
   "version": "3.12.6"
  }
 },
 "nbformat": 4,
 "nbformat_minor": 2
}
