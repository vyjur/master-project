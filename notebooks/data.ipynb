{
 "cells": [
  {
   "cell_type": "markdown",
   "metadata": {},
   "source": [
    "### Import packages"
   ]
  },
  {
   "cell_type": "code",
   "execution_count": 18,
   "metadata": {},
   "outputs": [],
   "source": [
    "import pandas as pd"
   ]
  },
  {
   "cell_type": "code",
   "execution_count": 19,
   "metadata": {},
   "outputs": [],
   "source": [
    "df = pd.read_csv('../data/NorMedTerm.csv', delimiter=\"\\t\", header=None)"
   ]
  },
  {
   "cell_type": "code",
   "execution_count": 20,
   "metadata": {},
   "outputs": [
    {
     "data": {
      "text/html": [
       "<div>\n",
       "<style scoped>\n",
       "    .dataframe tbody tr th:only-of-type {\n",
       "        vertical-align: middle;\n",
       "    }\n",
       "\n",
       "    .dataframe tbody tr th {\n",
       "        vertical-align: top;\n",
       "    }\n",
       "\n",
       "    .dataframe thead th {\n",
       "        text-align: right;\n",
       "    }\n",
       "</style>\n",
       "<table border=\"1\" class=\"dataframe\">\n",
       "  <thead>\n",
       "    <tr style=\"text-align: right;\">\n",
       "      <th></th>\n",
       "      <th>0</th>\n",
       "      <th>1</th>\n",
       "      <th>2</th>\n",
       "      <th>3</th>\n",
       "      <th>4</th>\n",
       "    </tr>\n",
       "  </thead>\n",
       "  <tbody>\n",
       "    <tr>\n",
       "      <th>0</th>\n",
       "      <td>a.</td>\n",
       "      <td>ABBREV</td>\n",
       "      <td>MO</td>\n",
       "      <td>NaN</td>\n",
       "      <td>automatic</td>\n",
       "    </tr>\n",
       "    <tr>\n",
       "      <th>1</th>\n",
       "      <td>abakteriell</td>\n",
       "      <td>OTHER</td>\n",
       "      <td>MO</td>\n",
       "      <td>NaN</td>\n",
       "      <td>manual</td>\n",
       "    </tr>\n",
       "    <tr>\n",
       "      <th>2</th>\n",
       "      <td>abarognose</td>\n",
       "      <td>CONDITION</td>\n",
       "      <td>MO</td>\n",
       "      <td>NaN</td>\n",
       "      <td>automatic</td>\n",
       "    </tr>\n",
       "    <tr>\n",
       "      <th>3</th>\n",
       "      <td>Abboticin</td>\n",
       "      <td>SUBSTANCE</td>\n",
       "      <td>MO</td>\n",
       "      <td>NaN</td>\n",
       "      <td>automatic</td>\n",
       "    </tr>\n",
       "    <tr>\n",
       "      <th>4</th>\n",
       "      <td>AIS</td>\n",
       "      <td>ABBREV</td>\n",
       "      <td>MO</td>\n",
       "      <td>NaN</td>\n",
       "      <td>automatic</td>\n",
       "    </tr>\n",
       "    <tr>\n",
       "      <th>...</th>\n",
       "      <td>...</td>\n",
       "      <td>...</td>\n",
       "      <td>...</td>\n",
       "      <td>...</td>\n",
       "      <td>...</td>\n",
       "    </tr>\n",
       "    <tr>\n",
       "      <th>78100</th>\n",
       "      <td>Vene</td>\n",
       "      <td>ANAT_LOC</td>\n",
       "      <td>ALOC</td>\n",
       "      <td>NaN</td>\n",
       "      <td>NaN</td>\n",
       "    </tr>\n",
       "    <tr>\n",
       "      <th>78101</th>\n",
       "      <td>Veneport</td>\n",
       "      <td>TOOL</td>\n",
       "      <td>ALOC</td>\n",
       "      <td>NaN</td>\n",
       "      <td>NaN</td>\n",
       "    </tr>\n",
       "    <tr>\n",
       "      <th>78102</th>\n",
       "      <td>Vesikkel</td>\n",
       "      <td>ANAT_LOC</td>\n",
       "      <td>ALOC</td>\n",
       "      <td>NaN</td>\n",
       "      <td>NaN</td>\n",
       "    </tr>\n",
       "    <tr>\n",
       "      <th>78103</th>\n",
       "      <td>Vulva</td>\n",
       "      <td>ANAT_LOC</td>\n",
       "      <td>ALOC</td>\n",
       "      <td>NaN</td>\n",
       "      <td>NaN</td>\n",
       "    </tr>\n",
       "    <tr>\n",
       "      <th>78104</th>\n",
       "      <td>Ytre øregang</td>\n",
       "      <td>ANAT_LOC</td>\n",
       "      <td>ALOC</td>\n",
       "      <td>NaN</td>\n",
       "      <td>NaN</td>\n",
       "    </tr>\n",
       "  </tbody>\n",
       "</table>\n",
       "<p>78105 rows × 5 columns</p>\n",
       "</div>"
      ],
      "text/plain": [
       "                  0          1     2    3          4\n",
       "0                a.     ABBREV    MO  NaN  automatic\n",
       "1       abakteriell      OTHER    MO  NaN     manual\n",
       "2        abarognose  CONDITION    MO  NaN  automatic\n",
       "3         Abboticin  SUBSTANCE    MO  NaN  automatic\n",
       "4               AIS     ABBREV    MO  NaN  automatic\n",
       "...             ...        ...   ...  ...        ...\n",
       "78100          Vene   ANAT_LOC  ALOC  NaN        NaN\n",
       "78101      Veneport       TOOL  ALOC  NaN        NaN\n",
       "78102      Vesikkel   ANAT_LOC  ALOC  NaN        NaN\n",
       "78103         Vulva   ANAT_LOC  ALOC  NaN        NaN\n",
       "78104  Ytre øregang   ANAT_LOC  ALOC  NaN        NaN\n",
       "\n",
       "[78105 rows x 5 columns]"
      ]
     },
     "execution_count": 20,
     "metadata": {},
     "output_type": "execute_result"
    }
   ],
   "source": [
    "df"
   ]
  },
  {
   "cell_type": "code",
   "execution_count": 21,
   "metadata": {},
   "outputs": [
    {
     "data": {
      "text/plain": [
       "array(['ABBREV', 'OTHER', 'CONDITION', 'SUBSTANCE', 'PROCEDURE',\n",
       "       'PHYSIOLOGY', 'ANAT_LOC', 'DISCIPLINE', 'MICROORGANISM', 'PERSON',\n",
       "       'TOOL', 'ORGANIZATION'], dtype=object)"
      ]
     },
     "execution_count": 21,
     "metadata": {},
     "output_type": "execute_result"
    }
   ],
   "source": [
    "df[1].unique()"
   ]
  },
  {
   "cell_type": "code",
   "execution_count": 22,
   "metadata": {},
   "outputs": [
    {
     "data": {
      "text/plain": [
       "1\n",
       "ABBREV             236\n",
       "ANAT_LOC           658\n",
       "CONDITION        24071\n",
       "DISCIPLINE         387\n",
       "MICROORGANISM      193\n",
       "ORGANIZATION       103\n",
       "OTHER              112\n",
       "PERSON             232\n",
       "PHYSIOLOGY         112\n",
       "PROCEDURE        10420\n",
       "SUBSTANCE        41365\n",
       "TOOL               216\n",
       "dtype: int64"
      ]
     },
     "execution_count": 22,
     "metadata": {},
     "output_type": "execute_result"
    }
   ],
   "source": [
    "df.groupby(1).size()"
   ]
  },
  {
   "cell_type": "code",
   "execution_count": 23,
   "metadata": {},
   "outputs": [],
   "source": [
    "new_df = df[(df[1] == 'CONDITION') | (df[1] == 'PROCEDURE') | (df[1] == 'SUBSTANCE')]"
   ]
  },
  {
   "cell_type": "code",
   "execution_count": 24,
   "metadata": {},
   "outputs": [],
   "source": [
    "new_df = new_df[[0,1]]"
   ]
  },
  {
   "cell_type": "code",
   "execution_count": 25,
   "metadata": {},
   "outputs": [
    {
     "data": {
      "text/html": [
       "<div>\n",
       "<style scoped>\n",
       "    .dataframe tbody tr th:only-of-type {\n",
       "        vertical-align: middle;\n",
       "    }\n",
       "\n",
       "    .dataframe tbody tr th {\n",
       "        vertical-align: top;\n",
       "    }\n",
       "\n",
       "    .dataframe thead th {\n",
       "        text-align: right;\n",
       "    }\n",
       "</style>\n",
       "<table border=\"1\" class=\"dataframe\">\n",
       "  <thead>\n",
       "    <tr style=\"text-align: right;\">\n",
       "      <th></th>\n",
       "      <th>Name</th>\n",
       "      <th>Category</th>\n",
       "    </tr>\n",
       "  </thead>\n",
       "  <tbody>\n",
       "    <tr>\n",
       "      <th>2</th>\n",
       "      <td>abarognose</td>\n",
       "      <td>CONDITION</td>\n",
       "    </tr>\n",
       "    <tr>\n",
       "      <th>3</th>\n",
       "      <td>Abboticin</td>\n",
       "      <td>SUBSTANCE</td>\n",
       "    </tr>\n",
       "    <tr>\n",
       "      <th>6</th>\n",
       "      <td>abdominalangiografi</td>\n",
       "      <td>PROCEDURE</td>\n",
       "    </tr>\n",
       "    <tr>\n",
       "      <th>7</th>\n",
       "      <td>abdominalblødning</td>\n",
       "      <td>CONDITION</td>\n",
       "    </tr>\n",
       "    <tr>\n",
       "      <th>8</th>\n",
       "      <td>abdominalgia</td>\n",
       "      <td>CONDITION</td>\n",
       "    </tr>\n",
       "    <tr>\n",
       "      <th>...</th>\n",
       "      <td>...</td>\n",
       "      <td>...</td>\n",
       "    </tr>\n",
       "    <tr>\n",
       "      <th>77840</th>\n",
       "      <td>Øyevæske-Bredt substanssøk</td>\n",
       "      <td>SUBSTANCE</td>\n",
       "    </tr>\n",
       "    <tr>\n",
       "      <th>77842</th>\n",
       "      <td>Abscess</td>\n",
       "      <td>CONDITION</td>\n",
       "    </tr>\n",
       "    <tr>\n",
       "      <th>77885</th>\n",
       "      <td>Decubitus</td>\n",
       "      <td>CONDITION</td>\n",
       "    </tr>\n",
       "    <tr>\n",
       "      <th>77948</th>\n",
       "      <td>Kateter innleggelse</td>\n",
       "      <td>PROCEDURE</td>\n",
       "    </tr>\n",
       "    <tr>\n",
       "      <th>78038</th>\n",
       "      <td>Pustel</td>\n",
       "      <td>CONDITION</td>\n",
       "    </tr>\n",
       "  </tbody>\n",
       "</table>\n",
       "<p>75856 rows × 2 columns</p>\n",
       "</div>"
      ],
      "text/plain": [
       "                             Name   Category\n",
       "2                      abarognose  CONDITION\n",
       "3                       Abboticin  SUBSTANCE\n",
       "6             abdominalangiografi  PROCEDURE\n",
       "7               abdominalblødning  CONDITION\n",
       "8                    abdominalgia  CONDITION\n",
       "...                           ...        ...\n",
       "77840  Øyevæske-Bredt substanssøk  SUBSTANCE\n",
       "77842                     Abscess  CONDITION\n",
       "77885                   Decubitus  CONDITION\n",
       "77948         Kateter innleggelse  PROCEDURE\n",
       "78038                      Pustel  CONDITION\n",
       "\n",
       "[75856 rows x 2 columns]"
      ]
     },
     "execution_count": 25,
     "metadata": {},
     "output_type": "execute_result"
    }
   ],
   "source": [
    "new_df.rename(columns={0: 'Term', 1: 'Category'})"
   ]
  },
  {
   "cell_type": "code",
   "execution_count": 26,
   "metadata": {},
   "outputs": [],
   "source": [
    "new_df.to_csv('../data/ner_train.csv')"
   ]
  }
 ],
 "metadata": {
  "kernelspec": {
   "display_name": ".venv",
   "language": "python",
   "name": "python3"
  },
  "language_info": {
   "codemirror_mode": {
    "name": "ipython",
    "version": 3
   },
   "file_extension": ".py",
   "mimetype": "text/x-python",
   "name": "python",
   "nbconvert_exporter": "python",
   "pygments_lexer": "ipython3",
   "version": "3.10.5"
  }
 },
 "nbformat": 4,
 "nbformat_minor": 2
}
