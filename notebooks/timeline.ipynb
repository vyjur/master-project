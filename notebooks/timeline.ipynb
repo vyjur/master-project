{
 "cells": [
  {
   "cell_type": "code",
   "execution_count": 26,
   "metadata": {},
   "outputs": [],
   "source": [
    "import plotly.express as px\n",
    "import pandas as pd"
   ]
  },
  {
   "cell_type": "code",
   "execution_count": 27,
   "metadata": {},
   "outputs": [
    {
     "name": "stdout",
     "output_type": "stream",
     "text": [
      "Node Levels: {1: 0, 2: 1, 4: 2, 5: 3, 3: 2, 6: 3, 0: 0}\n"
     ]
    }
   ],
   "source": [
    "from collections import defaultdict\n",
    "\n",
    "class Graph:\n",
    "    def __init__(self):\n",
    "        self.graph = defaultdict(list)  # Adjacency list representation\n",
    "        self.reverse_graph = defaultdict(list)  # Reverse graph to track parent-child relationships\n",
    "    \n",
    "    def add_edge(self, u, v):\n",
    "        self.graph[u].append(v)  # Directed edge u -> v\n",
    "        self.reverse_graph[v].append(u)  # Reverse edge v -> u (parent -> child)\n",
    "    \n",
    "    def remove_node(self, node):\n",
    "        # Get all children of the node\n",
    "        children = self.graph[node]\n",
    "\n",
    "        # Get all parents of the node (nodes that have edges pointing to it)\n",
    "        parents = self.reverse_graph[node]\n",
    "\n",
    "        # Reassign children of the removed node to its parents\n",
    "        for parent in parents:\n",
    "            # Remove the original connection from parent to the removed node\n",
    "            if node in self.graph[parent]:\n",
    "                self.graph[parent].remove(node)\n",
    "            # Add all the children to the parent's adjacency list\n",
    "            self.graph[parent].extend(children)\n",
    "\n",
    "        # Remove the node from the graph\n",
    "        if node in self.graph:\n",
    "            del self.graph[node]  # Delete the node from the graph\n",
    "        if node in self.reverse_graph:\n",
    "            del self.reverse_graph[node]  # Delete the node from reverse graph\n",
    "        \n",
    "        # Remove the node from other nodes' adjacency lists\n",
    "        for neighbors in self.graph.values():\n",
    "            if node in neighbors:\n",
    "                neighbors.remove(node)\n",
    "        \n",
    "        # Also, remove the node from reverse graph's parent-child relationships\n",
    "        for children in self.reverse_graph.values():\n",
    "            if node in children:\n",
    "                children.remove(node)\n",
    "    \n",
    "    def enumerate_levels(self):\n",
    "        levels = {}  # To store levels of each node\n",
    "        visited = set()\n",
    "\n",
    "        def dfs(node, current_level):\n",
    "            visited.add(node)\n",
    "            levels[node] = current_level  # Assign the current level to the node\n",
    "\n",
    "            for neighbor in self.graph[node]:\n",
    "                if neighbor not in visited:\n",
    "                    dfs(neighbor, current_level + 1)\n",
    "\n",
    "        # Handle disconnected graph\n",
    "        for node in list(self.graph.keys()):  # Use list(self.graph.keys()) to avoid RuntimeError\n",
    "            if node not in visited:\n",
    "                dfs(node, 0)  # Start DFS for unvisited components\n",
    "\n",
    "        return levels\n",
    "\n",
    "\n",
    "# Example Usage\n",
    "g = Graph()\n",
    "#g.add_edge(0, 1)\n",
    "#g.add_edge(1, 2)\n",
    "#g.add_edge(2, 3)\n",
    "#g.add_edge(1, 4)\n",
    "#g.add_edge(4, 5)\n",
    "#g.add_edge(6, 1)\n",
    "#g.add_edge(6, 7)\n",
    "#g.add_edge(7, 8)\n",
    "#g.add_edge(8, 9)\n",
    "#g.add_edge(9, 10)\n",
    "\n",
    "g.add_edge(1, 2)\n",
    "g.add_edge(0, 2)\n",
    "g.add_edge(2, 4)\n",
    "g.add_edge(2, 3)\n",
    "g.add_edge(4, 5)\n",
    "g.add_edge(3, 6)\n",
    "\n",
    "#g.remove_node(2)\n",
    "\n",
    "levels = g.enumerate_levels()\n",
    "print(\"Node Levels:\", levels)"
   ]
  },
  {
   "cell_type": "code",
   "execution_count": 28,
   "metadata": {},
   "outputs": [],
   "source": [
    "# this is the center\n",
    "offset = 2\n",
    "updated_levels = {node: level - offset for node, level in levels.items()}"
   ]
  },
  {
   "cell_type": "code",
   "execution_count": 29,
   "metadata": {},
   "outputs": [],
   "source": [
    "level_dict = {val: 0 for val in updated_levels.values()}"
   ]
  },
  {
   "cell_type": "code",
   "execution_count": 30,
   "metadata": {},
   "outputs": [],
   "source": [
    "from datetime import datetime, timedelta\n",
    "timeline = []\n",
    "offset = 4\n",
    "dt = datetime(2025, 1, 26, 00, 00, 00)  # Example datetime\n",
    "for id in updated_levels:\n",
    "    start_date = dt + timedelta(hours=updated_levels[id]*offset)\n",
    "    end_date = dt + timedelta(hours=updated_levels[id]*offset+offset)\n",
    "    timeline.append(dict(System=level_dict[updated_levels[id]], Entity=f\"Entity: {id}\", Start=start_date, Finish=end_date, Document=dt))\n",
    "    level_dict[updated_levels[id]] += 1\n",
    "    \n",
    "level_dict = {val: 0 for val in updated_levels.values()}\n",
    "dt = datetime(2025, 1, 25, 00, 00, 00)  # Example datetime\n",
    "for id in updated_levels:\n",
    "    start_date = dt + timedelta(hours=updated_levels[id]*offset)\n",
    "    end_date = dt + timedelta(hours=updated_levels[id]*offset+offset)\n",
    "    timeline.append(dict(System=level_dict[updated_levels[id]], Entity=f\"Superlong Entity: {id}\", Start=start_date, Finish=end_date, Document=dt))\n",
    "    level_dict[updated_levels[id]] += 1"
   ]
  },
  {
   "cell_type": "code",
   "execution_count": 31,
   "metadata": {},
   "outputs": [
    {
     "data": {
      "application/vnd.plotly.v1+json": {
       "config": {
        "plotlyServerURL": "https://plot.ly"
       },
       "data": [
        {
         "alignmentgroup": "True",
         "base": [
          "2025-01-25T16:00:00"
         ],
         "hovertemplate": "Document %{base|%Y-%m-%d}<br>",
         "insidetextfont": {
          "size": 56
         },
         "legendgroup": "Entity: 1",
         "marker": {
          "color": "#636efa",
          "pattern": {
           "shape": ""
          }
         },
         "name": "Entity: 1",
         "offsetgroup": "Entity: 1",
         "orientation": "h",
         "showlegend": true,
         "text": [
          "Entity: 1"
         ],
         "textangle": 0,
         "textposition": "inside",
         "type": "bar",
         "x": [
          14400000
         ],
         "xaxis": "x",
         "y": [
          0
         ],
         "yaxis": "y"
        },
        {
         "alignmentgroup": "True",
         "base": [
          "2025-01-25T20:00:00"
         ],
         "hovertemplate": "Document %{base|%Y-%m-%d}<br>",
         "insidetextfont": {
          "size": 56
         },
         "legendgroup": "Entity: 2",
         "marker": {
          "color": "#EF553B",
          "pattern": {
           "shape": ""
          }
         },
         "name": "Entity: 2",
         "offsetgroup": "Entity: 2",
         "orientation": "h",
         "showlegend": true,
         "text": [
          "Entity: 2"
         ],
         "textangle": 0,
         "textposition": "inside",
         "type": "bar",
         "x": [
          14400000
         ],
         "xaxis": "x",
         "y": [
          0
         ],
         "yaxis": "y"
        },
        {
         "alignmentgroup": "True",
         "base": [
          "2025-01-26T00:00:00"
         ],
         "hovertemplate": "Document %{base|%Y-%m-%d}<br>",
         "insidetextfont": {
          "size": 56
         },
         "legendgroup": "Entity: 4",
         "marker": {
          "color": "#00cc96",
          "pattern": {
           "shape": ""
          }
         },
         "name": "Entity: 4",
         "offsetgroup": "Entity: 4",
         "orientation": "h",
         "showlegend": true,
         "text": [
          "Entity: 4"
         ],
         "textangle": 0,
         "textposition": "inside",
         "type": "bar",
         "x": [
          14400000
         ],
         "xaxis": "x",
         "y": [
          0
         ],
         "yaxis": "y"
        },
        {
         "alignmentgroup": "True",
         "base": [
          "2025-01-26T04:00:00"
         ],
         "hovertemplate": "Document %{base|%Y-%m-%d}<br>",
         "insidetextfont": {
          "size": 56
         },
         "legendgroup": "Entity: 5",
         "marker": {
          "color": "#ab63fa",
          "pattern": {
           "shape": ""
          }
         },
         "name": "Entity: 5",
         "offsetgroup": "Entity: 5",
         "orientation": "h",
         "showlegend": true,
         "text": [
          "Entity: 5"
         ],
         "textangle": 0,
         "textposition": "inside",
         "type": "bar",
         "x": [
          14400000
         ],
         "xaxis": "x",
         "y": [
          0
         ],
         "yaxis": "y"
        },
        {
         "alignmentgroup": "True",
         "base": [
          "2025-01-26T00:00:00"
         ],
         "hovertemplate": "Document %{base|%Y-%m-%d}<br>",
         "insidetextfont": {
          "size": 56
         },
         "legendgroup": "Entity: 3",
         "marker": {
          "color": "#FFA15A",
          "pattern": {
           "shape": ""
          }
         },
         "name": "Entity: 3",
         "offsetgroup": "Entity: 3",
         "orientation": "h",
         "showlegend": true,
         "text": [
          "Entity: 3"
         ],
         "textangle": 0,
         "textposition": "inside",
         "type": "bar",
         "x": [
          14400000
         ],
         "xaxis": "x",
         "y": [
          1
         ],
         "yaxis": "y"
        },
        {
         "alignmentgroup": "True",
         "base": [
          "2025-01-26T04:00:00"
         ],
         "hovertemplate": "Document %{base|%Y-%m-%d}<br>",
         "insidetextfont": {
          "size": 56
         },
         "legendgroup": "Entity: 6",
         "marker": {
          "color": "#19d3f3",
          "pattern": {
           "shape": ""
          }
         },
         "name": "Entity: 6",
         "offsetgroup": "Entity: 6",
         "orientation": "h",
         "showlegend": true,
         "text": [
          "Entity: 6"
         ],
         "textangle": 0,
         "textposition": "inside",
         "type": "bar",
         "x": [
          14400000
         ],
         "xaxis": "x",
         "y": [
          1
         ],
         "yaxis": "y"
        },
        {
         "alignmentgroup": "True",
         "base": [
          "2025-01-25T16:00:00"
         ],
         "hovertemplate": "Document %{base|%Y-%m-%d}<br>",
         "insidetextfont": {
          "size": 56
         },
         "legendgroup": "Entity: 0",
         "marker": {
          "color": "#FF6692",
          "pattern": {
           "shape": ""
          }
         },
         "name": "Entity: 0",
         "offsetgroup": "Entity: 0",
         "orientation": "h",
         "showlegend": true,
         "text": [
          "Entity: 0"
         ],
         "textangle": 0,
         "textposition": "inside",
         "type": "bar",
         "x": [
          14400000
         ],
         "xaxis": "x",
         "y": [
          1
         ],
         "yaxis": "y"
        },
        {
         "alignmentgroup": "True",
         "base": [
          "2025-01-24T16:00:00"
         ],
         "hovertemplate": "Document %{base|%Y-%m-%d}<br>",
         "insidetextfont": {
          "size": 56
         },
         "legendgroup": "Superlong Entity: 1",
         "marker": {
          "color": "#B6E880",
          "pattern": {
           "shape": ""
          }
         },
         "name": "Superlong Entity: 1",
         "offsetgroup": "Superlong Entity: 1",
         "orientation": "h",
         "showlegend": true,
         "text": [
          "Superlong Entity: 1"
         ],
         "textangle": 0,
         "textposition": "inside",
         "type": "bar",
         "x": [
          14400000
         ],
         "xaxis": "x",
         "y": [
          0
         ],
         "yaxis": "y"
        },
        {
         "alignmentgroup": "True",
         "base": [
          "2025-01-24T20:00:00"
         ],
         "hovertemplate": "Document %{base|%Y-%m-%d}<br>",
         "insidetextfont": {
          "size": 56
         },
         "legendgroup": "Superlong Entity: 2",
         "marker": {
          "color": "#FF97FF",
          "pattern": {
           "shape": ""
          }
         },
         "name": "Superlong Entity: 2",
         "offsetgroup": "Superlong Entity: 2",
         "orientation": "h",
         "showlegend": true,
         "text": [
          "Superlong Entity: 2"
         ],
         "textangle": 0,
         "textposition": "inside",
         "type": "bar",
         "x": [
          14400000
         ],
         "xaxis": "x",
         "y": [
          0
         ],
         "yaxis": "y"
        },
        {
         "alignmentgroup": "True",
         "base": [
          "2025-01-25T00:00:00"
         ],
         "hovertemplate": "Document %{base|%Y-%m-%d}<br>",
         "insidetextfont": {
          "size": 56
         },
         "legendgroup": "Superlong Entity: 4",
         "marker": {
          "color": "#FECB52",
          "pattern": {
           "shape": ""
          }
         },
         "name": "Superlong Entity: 4",
         "offsetgroup": "Superlong Entity: 4",
         "orientation": "h",
         "showlegend": true,
         "text": [
          "Superlong Entity: 4"
         ],
         "textangle": 0,
         "textposition": "inside",
         "type": "bar",
         "x": [
          14400000
         ],
         "xaxis": "x",
         "y": [
          0
         ],
         "yaxis": "y"
        },
        {
         "alignmentgroup": "True",
         "base": [
          "2025-01-25T04:00:00"
         ],
         "hovertemplate": "Document %{base|%Y-%m-%d}<br>",
         "insidetextfont": {
          "size": 56
         },
         "legendgroup": "Superlong Entity: 5",
         "marker": {
          "color": "#636efa",
          "pattern": {
           "shape": ""
          }
         },
         "name": "Superlong Entity: 5",
         "offsetgroup": "Superlong Entity: 5",
         "orientation": "h",
         "showlegend": true,
         "text": [
          "Superlong Entity: 5"
         ],
         "textangle": 0,
         "textposition": "inside",
         "type": "bar",
         "x": [
          14400000
         ],
         "xaxis": "x",
         "y": [
          0
         ],
         "yaxis": "y"
        },
        {
         "alignmentgroup": "True",
         "base": [
          "2025-01-25T00:00:00"
         ],
         "hovertemplate": "Document %{base|%Y-%m-%d}<br>",
         "insidetextfont": {
          "size": 56
         },
         "legendgroup": "Superlong Entity: 3",
         "marker": {
          "color": "#EF553B",
          "pattern": {
           "shape": ""
          }
         },
         "name": "Superlong Entity: 3",
         "offsetgroup": "Superlong Entity: 3",
         "orientation": "h",
         "showlegend": true,
         "text": [
          "Superlong Entity: 3"
         ],
         "textangle": 0,
         "textposition": "inside",
         "type": "bar",
         "x": [
          14400000
         ],
         "xaxis": "x",
         "y": [
          1
         ],
         "yaxis": "y"
        },
        {
         "alignmentgroup": "True",
         "base": [
          "2025-01-25T04:00:00"
         ],
         "hovertemplate": "Document %{base|%Y-%m-%d}<br>",
         "insidetextfont": {
          "size": 56
         },
         "legendgroup": "Superlong Entity: 6",
         "marker": {
          "color": "#00cc96",
          "pattern": {
           "shape": ""
          }
         },
         "name": "Superlong Entity: 6",
         "offsetgroup": "Superlong Entity: 6",
         "orientation": "h",
         "showlegend": true,
         "text": [
          "Superlong Entity: 6"
         ],
         "textangle": 0,
         "textposition": "inside",
         "type": "bar",
         "x": [
          14400000
         ],
         "xaxis": "x",
         "y": [
          1
         ],
         "yaxis": "y"
        },
        {
         "alignmentgroup": "True",
         "base": [
          "2025-01-24T16:00:00"
         ],
         "hovertemplate": "Document %{base|%Y-%m-%d}<br>",
         "insidetextfont": {
          "size": 56
         },
         "legendgroup": "Superlong Entity: 0",
         "marker": {
          "color": "#ab63fa",
          "pattern": {
           "shape": ""
          }
         },
         "name": "Superlong Entity: 0",
         "offsetgroup": "Superlong Entity: 0",
         "orientation": "h",
         "showlegend": true,
         "text": [
          "Superlong Entity: 0"
         ],
         "textangle": 0,
         "textposition": "inside",
         "type": "bar",
         "x": [
          14400000
         ],
         "xaxis": "x",
         "y": [
          1
         ],
         "yaxis": "y"
        }
       ],
       "layout": {
        "barmode": "overlay",
        "legend": {
         "title": {
          "text": "Entity"
         },
         "tracegroupgap": 0
        },
        "margin": {
         "t": 60
        },
        "template": {
         "data": {
          "bar": [
           {
            "error_x": {
             "color": "#2a3f5f"
            },
            "error_y": {
             "color": "#2a3f5f"
            },
            "marker": {
             "line": {
              "color": "#E5ECF6",
              "width": 0.5
             },
             "pattern": {
              "fillmode": "overlay",
              "size": 10,
              "solidity": 0.2
             }
            },
            "type": "bar"
           }
          ],
          "barpolar": [
           {
            "marker": {
             "line": {
              "color": "#E5ECF6",
              "width": 0.5
             },
             "pattern": {
              "fillmode": "overlay",
              "size": 10,
              "solidity": 0.2
             }
            },
            "type": "barpolar"
           }
          ],
          "carpet": [
           {
            "aaxis": {
             "endlinecolor": "#2a3f5f",
             "gridcolor": "white",
             "linecolor": "white",
             "minorgridcolor": "white",
             "startlinecolor": "#2a3f5f"
            },
            "baxis": {
             "endlinecolor": "#2a3f5f",
             "gridcolor": "white",
             "linecolor": "white",
             "minorgridcolor": "white",
             "startlinecolor": "#2a3f5f"
            },
            "type": "carpet"
           }
          ],
          "choropleth": [
           {
            "colorbar": {
             "outlinewidth": 0,
             "ticks": ""
            },
            "type": "choropleth"
           }
          ],
          "contour": [
           {
            "colorbar": {
             "outlinewidth": 0,
             "ticks": ""
            },
            "colorscale": [
             [
              0,
              "#0d0887"
             ],
             [
              0.1111111111111111,
              "#46039f"
             ],
             [
              0.2222222222222222,
              "#7201a8"
             ],
             [
              0.3333333333333333,
              "#9c179e"
             ],
             [
              0.4444444444444444,
              "#bd3786"
             ],
             [
              0.5555555555555556,
              "#d8576b"
             ],
             [
              0.6666666666666666,
              "#ed7953"
             ],
             [
              0.7777777777777778,
              "#fb9f3a"
             ],
             [
              0.8888888888888888,
              "#fdca26"
             ],
             [
              1,
              "#f0f921"
             ]
            ],
            "type": "contour"
           }
          ],
          "contourcarpet": [
           {
            "colorbar": {
             "outlinewidth": 0,
             "ticks": ""
            },
            "type": "contourcarpet"
           }
          ],
          "heatmap": [
           {
            "colorbar": {
             "outlinewidth": 0,
             "ticks": ""
            },
            "colorscale": [
             [
              0,
              "#0d0887"
             ],
             [
              0.1111111111111111,
              "#46039f"
             ],
             [
              0.2222222222222222,
              "#7201a8"
             ],
             [
              0.3333333333333333,
              "#9c179e"
             ],
             [
              0.4444444444444444,
              "#bd3786"
             ],
             [
              0.5555555555555556,
              "#d8576b"
             ],
             [
              0.6666666666666666,
              "#ed7953"
             ],
             [
              0.7777777777777778,
              "#fb9f3a"
             ],
             [
              0.8888888888888888,
              "#fdca26"
             ],
             [
              1,
              "#f0f921"
             ]
            ],
            "type": "heatmap"
           }
          ],
          "heatmapgl": [
           {
            "colorbar": {
             "outlinewidth": 0,
             "ticks": ""
            },
            "colorscale": [
             [
              0,
              "#0d0887"
             ],
             [
              0.1111111111111111,
              "#46039f"
             ],
             [
              0.2222222222222222,
              "#7201a8"
             ],
             [
              0.3333333333333333,
              "#9c179e"
             ],
             [
              0.4444444444444444,
              "#bd3786"
             ],
             [
              0.5555555555555556,
              "#d8576b"
             ],
             [
              0.6666666666666666,
              "#ed7953"
             ],
             [
              0.7777777777777778,
              "#fb9f3a"
             ],
             [
              0.8888888888888888,
              "#fdca26"
             ],
             [
              1,
              "#f0f921"
             ]
            ],
            "type": "heatmapgl"
           }
          ],
          "histogram": [
           {
            "marker": {
             "pattern": {
              "fillmode": "overlay",
              "size": 10,
              "solidity": 0.2
             }
            },
            "type": "histogram"
           }
          ],
          "histogram2d": [
           {
            "colorbar": {
             "outlinewidth": 0,
             "ticks": ""
            },
            "colorscale": [
             [
              0,
              "#0d0887"
             ],
             [
              0.1111111111111111,
              "#46039f"
             ],
             [
              0.2222222222222222,
              "#7201a8"
             ],
             [
              0.3333333333333333,
              "#9c179e"
             ],
             [
              0.4444444444444444,
              "#bd3786"
             ],
             [
              0.5555555555555556,
              "#d8576b"
             ],
             [
              0.6666666666666666,
              "#ed7953"
             ],
             [
              0.7777777777777778,
              "#fb9f3a"
             ],
             [
              0.8888888888888888,
              "#fdca26"
             ],
             [
              1,
              "#f0f921"
             ]
            ],
            "type": "histogram2d"
           }
          ],
          "histogram2dcontour": [
           {
            "colorbar": {
             "outlinewidth": 0,
             "ticks": ""
            },
            "colorscale": [
             [
              0,
              "#0d0887"
             ],
             [
              0.1111111111111111,
              "#46039f"
             ],
             [
              0.2222222222222222,
              "#7201a8"
             ],
             [
              0.3333333333333333,
              "#9c179e"
             ],
             [
              0.4444444444444444,
              "#bd3786"
             ],
             [
              0.5555555555555556,
              "#d8576b"
             ],
             [
              0.6666666666666666,
              "#ed7953"
             ],
             [
              0.7777777777777778,
              "#fb9f3a"
             ],
             [
              0.8888888888888888,
              "#fdca26"
             ],
             [
              1,
              "#f0f921"
             ]
            ],
            "type": "histogram2dcontour"
           }
          ],
          "mesh3d": [
           {
            "colorbar": {
             "outlinewidth": 0,
             "ticks": ""
            },
            "type": "mesh3d"
           }
          ],
          "parcoords": [
           {
            "line": {
             "colorbar": {
              "outlinewidth": 0,
              "ticks": ""
             }
            },
            "type": "parcoords"
           }
          ],
          "pie": [
           {
            "automargin": true,
            "type": "pie"
           }
          ],
          "scatter": [
           {
            "fillpattern": {
             "fillmode": "overlay",
             "size": 10,
             "solidity": 0.2
            },
            "type": "scatter"
           }
          ],
          "scatter3d": [
           {
            "line": {
             "colorbar": {
              "outlinewidth": 0,
              "ticks": ""
             }
            },
            "marker": {
             "colorbar": {
              "outlinewidth": 0,
              "ticks": ""
             }
            },
            "type": "scatter3d"
           }
          ],
          "scattercarpet": [
           {
            "marker": {
             "colorbar": {
              "outlinewidth": 0,
              "ticks": ""
             }
            },
            "type": "scattercarpet"
           }
          ],
          "scattergeo": [
           {
            "marker": {
             "colorbar": {
              "outlinewidth": 0,
              "ticks": ""
             }
            },
            "type": "scattergeo"
           }
          ],
          "scattergl": [
           {
            "marker": {
             "colorbar": {
              "outlinewidth": 0,
              "ticks": ""
             }
            },
            "type": "scattergl"
           }
          ],
          "scattermapbox": [
           {
            "marker": {
             "colorbar": {
              "outlinewidth": 0,
              "ticks": ""
             }
            },
            "type": "scattermapbox"
           }
          ],
          "scatterpolar": [
           {
            "marker": {
             "colorbar": {
              "outlinewidth": 0,
              "ticks": ""
             }
            },
            "type": "scatterpolar"
           }
          ],
          "scatterpolargl": [
           {
            "marker": {
             "colorbar": {
              "outlinewidth": 0,
              "ticks": ""
             }
            },
            "type": "scatterpolargl"
           }
          ],
          "scatterternary": [
           {
            "marker": {
             "colorbar": {
              "outlinewidth": 0,
              "ticks": ""
             }
            },
            "type": "scatterternary"
           }
          ],
          "surface": [
           {
            "colorbar": {
             "outlinewidth": 0,
             "ticks": ""
            },
            "colorscale": [
             [
              0,
              "#0d0887"
             ],
             [
              0.1111111111111111,
              "#46039f"
             ],
             [
              0.2222222222222222,
              "#7201a8"
             ],
             [
              0.3333333333333333,
              "#9c179e"
             ],
             [
              0.4444444444444444,
              "#bd3786"
             ],
             [
              0.5555555555555556,
              "#d8576b"
             ],
             [
              0.6666666666666666,
              "#ed7953"
             ],
             [
              0.7777777777777778,
              "#fb9f3a"
             ],
             [
              0.8888888888888888,
              "#fdca26"
             ],
             [
              1,
              "#f0f921"
             ]
            ],
            "type": "surface"
           }
          ],
          "table": [
           {
            "cells": {
             "fill": {
              "color": "#EBF0F8"
             },
             "line": {
              "color": "white"
             }
            },
            "header": {
             "fill": {
              "color": "#C8D4E3"
             },
             "line": {
              "color": "white"
             }
            },
            "type": "table"
           }
          ]
         },
         "layout": {
          "annotationdefaults": {
           "arrowcolor": "#2a3f5f",
           "arrowhead": 0,
           "arrowwidth": 1
          },
          "autotypenumbers": "strict",
          "coloraxis": {
           "colorbar": {
            "outlinewidth": 0,
            "ticks": ""
           }
          },
          "colorscale": {
           "diverging": [
            [
             0,
             "#8e0152"
            ],
            [
             0.1,
             "#c51b7d"
            ],
            [
             0.2,
             "#de77ae"
            ],
            [
             0.3,
             "#f1b6da"
            ],
            [
             0.4,
             "#fde0ef"
            ],
            [
             0.5,
             "#f7f7f7"
            ],
            [
             0.6,
             "#e6f5d0"
            ],
            [
             0.7,
             "#b8e186"
            ],
            [
             0.8,
             "#7fbc41"
            ],
            [
             0.9,
             "#4d9221"
            ],
            [
             1,
             "#276419"
            ]
           ],
           "sequential": [
            [
             0,
             "#0d0887"
            ],
            [
             0.1111111111111111,
             "#46039f"
            ],
            [
             0.2222222222222222,
             "#7201a8"
            ],
            [
             0.3333333333333333,
             "#9c179e"
            ],
            [
             0.4444444444444444,
             "#bd3786"
            ],
            [
             0.5555555555555556,
             "#d8576b"
            ],
            [
             0.6666666666666666,
             "#ed7953"
            ],
            [
             0.7777777777777778,
             "#fb9f3a"
            ],
            [
             0.8888888888888888,
             "#fdca26"
            ],
            [
             1,
             "#f0f921"
            ]
           ],
           "sequentialminus": [
            [
             0,
             "#0d0887"
            ],
            [
             0.1111111111111111,
             "#46039f"
            ],
            [
             0.2222222222222222,
             "#7201a8"
            ],
            [
             0.3333333333333333,
             "#9c179e"
            ],
            [
             0.4444444444444444,
             "#bd3786"
            ],
            [
             0.5555555555555556,
             "#d8576b"
            ],
            [
             0.6666666666666666,
             "#ed7953"
            ],
            [
             0.7777777777777778,
             "#fb9f3a"
            ],
            [
             0.8888888888888888,
             "#fdca26"
            ],
            [
             1,
             "#f0f921"
            ]
           ]
          },
          "colorway": [
           "#636efa",
           "#EF553B",
           "#00cc96",
           "#ab63fa",
           "#FFA15A",
           "#19d3f3",
           "#FF6692",
           "#B6E880",
           "#FF97FF",
           "#FECB52"
          ],
          "font": {
           "color": "#2a3f5f"
          },
          "geo": {
           "bgcolor": "white",
           "lakecolor": "white",
           "landcolor": "#E5ECF6",
           "showlakes": true,
           "showland": true,
           "subunitcolor": "white"
          },
          "hoverlabel": {
           "align": "left"
          },
          "hovermode": "closest",
          "mapbox": {
           "style": "light"
          },
          "paper_bgcolor": "white",
          "plot_bgcolor": "#E5ECF6",
          "polar": {
           "angularaxis": {
            "gridcolor": "white",
            "linecolor": "white",
            "ticks": ""
           },
           "bgcolor": "#E5ECF6",
           "radialaxis": {
            "gridcolor": "white",
            "linecolor": "white",
            "ticks": ""
           }
          },
          "scene": {
           "xaxis": {
            "backgroundcolor": "#E5ECF6",
            "gridcolor": "white",
            "gridwidth": 2,
            "linecolor": "white",
            "showbackground": true,
            "ticks": "",
            "zerolinecolor": "white"
           },
           "yaxis": {
            "backgroundcolor": "#E5ECF6",
            "gridcolor": "white",
            "gridwidth": 2,
            "linecolor": "white",
            "showbackground": true,
            "ticks": "",
            "zerolinecolor": "white"
           },
           "zaxis": {
            "backgroundcolor": "#E5ECF6",
            "gridcolor": "white",
            "gridwidth": 2,
            "linecolor": "white",
            "showbackground": true,
            "ticks": "",
            "zerolinecolor": "white"
           }
          },
          "shapedefaults": {
           "line": {
            "color": "#2a3f5f"
           }
          },
          "ternary": {
           "aaxis": {
            "gridcolor": "white",
            "linecolor": "white",
            "ticks": ""
           },
           "baxis": {
            "gridcolor": "white",
            "linecolor": "white",
            "ticks": ""
           },
           "bgcolor": "#E5ECF6",
           "caxis": {
            "gridcolor": "white",
            "linecolor": "white",
            "ticks": ""
           }
          },
          "title": {
           "x": 0.05
          },
          "xaxis": {
           "automargin": true,
           "gridcolor": "white",
           "linecolor": "white",
           "ticks": "",
           "title": {
            "standoff": 15
           },
           "zerolinecolor": "white",
           "zerolinewidth": 2
          },
          "yaxis": {
           "automargin": true,
           "gridcolor": "white",
           "linecolor": "white",
           "ticks": "",
           "title": {
            "standoff": 15
           },
           "zerolinecolor": "white",
           "zerolinewidth": 2
          }
         }
        },
        "xaxis": {
         "anchor": "y",
         "domain": [
          0,
          1
         ],
         "dtick": "D1",
         "tickformat": "%Y-%m-%d",
         "type": "date"
        },
        "yaxis": {
         "anchor": "x",
         "autorange": "reversed",
         "domain": [
          0,
          1
         ],
         "showticklabels": false,
         "title": {
          "text": "System"
         },
         "visible": false
        }
       }
      }
     },
     "metadata": {},
     "output_type": "display_data"
    }
   ],
   "source": [
    "df = pd.DataFrame(timeline)\n",
    "\n",
    "fig = px.timeline(df, x_start=\"Start\", x_end=\"Finish\", y=\"System\", color=\"Entity\", text=\"Entity\")\n",
    "fig.update_yaxes(autorange=\"reversed\") # otherwise tasks are listed from the bottom up\n",
    "fig.update_traces(textposition='inside')\n",
    "fig.update_layout(\n",
    "    xaxis=dict(\n",
    "        tickformat=\"%Y-%m-%d\",  # Format the ticks to show only the date,\n",
    "        dtick=\"D1\"\n",
    "    )\n",
    ")\n",
    "fig.update_yaxes(visible=False, showticklabels=False)  # Hide the y-axis\n",
    "\n",
    "\n",
    "fig.update_layout(barmode='overlay')\n",
    "fig.update_traces(hovertemplate=\"Document %{base|%Y-%m-%d}<br>\", \n",
    "                  textangle=0, \n",
    "                  insidetextfont=dict(size=56))\n",
    "\n",
    "fig.show()"
   ]
  }
 ],
 "metadata": {
  "kernelspec": {
   "display_name": "master-project-UDjK7d-v-py3.10",
   "language": "python",
   "name": "python3"
  },
  "language_info": {
   "codemirror_mode": {
    "name": "ipython",
    "version": 3
   },
   "file_extension": ".py",
   "mimetype": "text/x-python",
   "name": "python",
   "nbconvert_exporter": "python",
   "pygments_lexer": "ipython3",
   "version": "3.10.11"
  }
 },
 "nbformat": 4,
 "nbformat_minor": 2
}
