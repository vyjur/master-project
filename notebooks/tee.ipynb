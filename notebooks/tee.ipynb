{
 "cells": [
  {
   "cell_type": "code",
   "execution_count": 1,
   "metadata": {},
   "outputs": [
    {
     "name": "stderr",
     "output_type": "stream",
     "text": [
      "WARNING:root:['slf4j-simple-1.7.30.jar', 'gson-2.8.6.jar', 'stanford-corenlp-4.0.0-models.jar', 'stanford-corenlp-4.0.0.jar']\n"
     ]
    },
    {
     "ename": "RuntimeError",
     "evalue": "Not all necessary Java dependencies have been downloaded!",
     "output_type": "error",
     "traceback": [
      "\u001b[1;31m---------------------------------------------------------------------------\u001b[0m",
      "\u001b[1;31mRuntimeError\u001b[0m                              Traceback (most recent call last)",
      "Cell \u001b[1;32mIn[1], line 3\u001b[0m\n\u001b[0;32m      1\u001b[0m \u001b[38;5;28;01mfrom\u001b[39;00m \u001b[38;5;21;01msutime\u001b[39;00m \u001b[38;5;28;01mimport\u001b[39;00m SUTime\n\u001b[1;32m----> 3\u001b[0m sutime \u001b[38;5;241m=\u001b[39m \u001b[43mSUTime\u001b[49m\u001b[43m(\u001b[49m\u001b[43mmark_time_ranges\u001b[49m\u001b[38;5;241;43m=\u001b[39;49m\u001b[38;5;28;43;01mTrue\u001b[39;49;00m\u001b[43m)\u001b[49m\n\u001b[0;32m      4\u001b[0m text \u001b[38;5;241m=\u001b[39m \u001b[38;5;124m\"\u001b[39m\u001b[38;5;124mLet\u001b[39m\u001b[38;5;124m'\u001b[39m\u001b[38;5;124ms meet next Wednesday at 5 PM.\u001b[39m\u001b[38;5;124m\"\u001b[39m\n\u001b[0;32m      6\u001b[0m \u001b[38;5;66;03m# Extract time expressions\u001b[39;00m\n",
      "File \u001b[1;32mc:\\Users\\driti\\AppData\\Local\\pypoetry\\Cache\\virtualenvs\\master-project-gaKcyLKh-py3.12\\Lib\\site-packages\\sutime\\sutime.py:100\u001b[0m, in \u001b[0;36mSUTime.__init__\u001b[1;34m(self, jars, jvm_started, mark_time_ranges, include_range, jvm_flags, language)\u001b[0m\n\u001b[0;32m     95\u001b[0m \u001b[38;5;28mself\u001b[39m\u001b[38;5;241m.\u001b[39m_check_language_model_dependency(\n\u001b[0;32m     96\u001b[0m     language\u001b[38;5;241m.\u001b[39mlower() \u001b[38;5;28;01mif\u001b[39;00m language \u001b[38;5;28;01melse\u001b[39;00m \u001b[38;5;124m'\u001b[39m\u001b[38;5;124m'\u001b[39m,\n\u001b[0;32m     97\u001b[0m )\n\u001b[0;32m     99\u001b[0m \u001b[38;5;28;01mif\u001b[39;00m \u001b[38;5;129;01mnot\u001b[39;00m jvm_started:\n\u001b[1;32m--> 100\u001b[0m     \u001b[38;5;28mself\u001b[39m\u001b[38;5;241m.\u001b[39m_classpath \u001b[38;5;241m=\u001b[39m \u001b[38;5;28;43mself\u001b[39;49m\u001b[38;5;241;43m.\u001b[39;49m\u001b[43m_create_classpath\u001b[49m\u001b[43m(\u001b[49m\u001b[43m)\u001b[49m\n\u001b[0;32m    101\u001b[0m     \u001b[38;5;28mself\u001b[39m\u001b[38;5;241m.\u001b[39m_start_jvm(jvm_flags)\n\u001b[0;32m    103\u001b[0m \u001b[38;5;28mself\u001b[39m\u001b[38;5;241m.\u001b[39m_load_java_wrapper_class(language)\n",
      "File \u001b[1;32mc:\\Users\\driti\\AppData\\Local\\pypoetry\\Cache\\virtualenvs\\master-project-gaKcyLKh-py3.12\\Lib\\site-packages\\sutime\\sutime.py:206\u001b[0m, in \u001b[0;36mSUTime._create_classpath\u001b[1;34m(self)\u001b[0m\n\u001b[0;32m    202\u001b[0m \u001b[38;5;28;01mif\u001b[39;00m \u001b[38;5;129;01mnot\u001b[39;00m \u001b[38;5;28mself\u001b[39m\u001b[38;5;241m.\u001b[39m_required_jars\u001b[38;5;241m.\u001b[39missubset(jar_file_names):\n\u001b[0;32m    203\u001b[0m     logging\u001b[38;5;241m.\u001b[39mwarning([\n\u001b[0;32m    204\u001b[0m         jar \u001b[38;5;28;01mfor\u001b[39;00m jar \u001b[38;5;129;01min\u001b[39;00m \u001b[38;5;28mself\u001b[39m\u001b[38;5;241m.\u001b[39m_required_jars \u001b[38;5;28;01mif\u001b[39;00m jar \u001b[38;5;129;01mnot\u001b[39;00m \u001b[38;5;129;01min\u001b[39;00m jar_file_names\n\u001b[0;32m    205\u001b[0m     ])\n\u001b[1;32m--> 206\u001b[0m     \u001b[38;5;28;01mraise\u001b[39;00m \u001b[38;5;167;01mRuntimeError\u001b[39;00m(\n\u001b[0;32m    207\u001b[0m         \u001b[38;5;124m'\u001b[39m\u001b[38;5;124mNot all necessary Java dependencies have been downloaded!\u001b[39m\u001b[38;5;124m'\u001b[39m,\n\u001b[0;32m    208\u001b[0m     )\n\u001b[0;32m    209\u001b[0m \u001b[38;5;28;01mreturn\u001b[39;00m os\u001b[38;5;241m.\u001b[39mpathsep\u001b[38;5;241m.\u001b[39mjoin(\u001b[38;5;28mstr\u001b[39m(jar) \u001b[38;5;28;01mfor\u001b[39;00m jar \u001b[38;5;129;01min\u001b[39;00m jars)\n",
      "\u001b[1;31mRuntimeError\u001b[0m: Not all necessary Java dependencies have been downloaded!"
     ]
    }
   ],
   "source": [
    "from sutime import SUTime\n",
    "\n",
    "sutime = SUTime(mark_time_ranges=True)\n",
    "text = \"Let's meet next Wednesday at 5 PM.\"\n",
    "\n",
    "# Extract time expressions\n",
    "print(sutime.parse(text))"
   ]
  },
  {
   "cell_type": "code",
   "execution_count": 2,
   "metadata": {},
   "outputs": [
    {
     "ename": "ModuleNotFoundError",
     "evalue": "No module named 'spacy'",
     "output_type": "error",
     "traceback": [
      "\u001b[1;31m---------------------------------------------------------------------------\u001b[0m",
      "\u001b[1;31mModuleNotFoundError\u001b[0m                       Traceback (most recent call last)",
      "Cell \u001b[1;32mIn[2], line 1\u001b[0m\n\u001b[1;32m----> 1\u001b[0m \u001b[38;5;28;01mimport\u001b[39;00m \u001b[38;5;21;01mspacy\u001b[39;00m\n\u001b[0;32m      2\u001b[0m \u001b[38;5;28;01mimport\u001b[39;00m \u001b[38;5;21;01mre\u001b[39;00m\n\u001b[0;32m      4\u001b[0m nlp \u001b[38;5;241m=\u001b[39m spacy\u001b[38;5;241m.\u001b[39mload(\u001b[38;5;124m\"\u001b[39m\u001b[38;5;124men_core_web_sm\u001b[39m\u001b[38;5;124m\"\u001b[39m)\n",
      "\u001b[1;31mModuleNotFoundError\u001b[0m: No module named 'spacy'"
     ]
    }
   ],
   "source": [
    "import spacy\n",
    "import re\n",
    "\n",
    "nlp = spacy.load(\"en_core_web_sm\")\n",
    "\n",
    "def extract_dates(text):\n",
    "    doc = nlp(text)\n",
    "    dates = [ent.text for ent in doc.ents if ent.label_ in [\"DATE\", \"TIME\"]]\n",
    "    return dates\n",
    "\n",
    "text = \"We will meet on 12th July at 2 PM.\"\n",
    "print(extract_dates(text))"
   ]
  }
 ],
 "metadata": {
  "kernelspec": {
   "display_name": "master-project-gaKcyLKh-py3.12",
   "language": "python",
   "name": "python3"
  },
  "language_info": {
   "codemirror_mode": {
    "name": "ipython",
    "version": 3
   },
   "file_extension": ".py",
   "mimetype": "text/x-python",
   "name": "python",
   "nbconvert_exporter": "python",
   "pygments_lexer": "ipython3",
   "version": "3.12.6"
  }
 },
 "nbformat": 4,
 "nbformat_minor": 2
}
