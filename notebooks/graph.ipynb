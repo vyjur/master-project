{
 "cells": [
  {
   "cell_type": "code",
   "execution_count": 1,
   "metadata": {},
   "outputs": [],
   "source": [
    "from pyvis.network import Network"
   ]
  },
  {
   "cell_type": "code",
   "execution_count": null,
   "metadata": {},
   "outputs": [
    {
     "name": "stdout",
     "output_type": "stream",
     "text": [
      "Warning: When  cdn_resources is 'local' jupyter notebook has issues displaying graphics on chrome/safari. Use cdn_resources='in_line' or cdn_resources='remote' if you have issues viewing graphics in a notebook.\n",
      "simple_network.html\n"
     ]
    },
    {
     "data": {
      "text/html": [
       "\n",
       "        <iframe\n",
       "            width=\"100%\"\n",
       "            height=\"500px\"\n",
       "            src=\"simple_network.html\"\n",
       "            frameborder=\"0\"\n",
       "            allowfullscreen\n",
       "            \n",
       "        ></iframe>\n",
       "        "
      ],
      "text/plain": [
       "<IPython.lib.display.IFrame at 0x1bb601faba0>"
      ]
     },
     "execution_count": 4,
     "metadata": {},
     "output_type": "execute_result"
    }
   ],
   "source": [
    "from pyvis.network import Network\n",
    "\n",
    "# Create a Network object\n",
    "net = Network(notebook=True, height=\"500px\", width=\"100%\", bgcolor=\"#222222\", font_color=\"white\", directed=True, neighborhood_highlight=True)\n",
    "\n",
    "# Add nodes to the graph with multiple labels\n",
    "# Concatenating multiple labels into one string for display\n",
    "nodes = ['Node 1', 'Node 2', 'Node 3', 'Node 4']\n",
    "\n",
    "nodes2 = ['Node A', 'Node B', 'Node C', 'Node D']\n",
    "\n",
    "# Adding nodes with calculated positions\n",
    "for i, label in enumerate(nodes):\n",
    "    net.add_node(i + 1, label=label)  # Adjusting x position dynamically\n",
    "\n",
    "for i, label in enumerate(nodes2):\n",
    "    net.add_node(5+i + 1, label=label)  # Adjusting x position dynamically\n",
    "\n",
    "# Adding edges between sequential nodes\n",
    "for i in range(len(nodes) - 1):\n",
    "    net.add_edge(i + 1, i + 2)\n",
    "\n",
    "for i in range(len(nodes) - 1):\n",
    "    net.add_edge(5+ i + 1, 5+ i + 2)\n",
    "\n",
    "\n",
    "\n",
    "# Enable physics\n",
    "net.toggle_physics(True)\n",
    "\n",
    "# Show the graph and embed it in the notebook\n",
    "html_file = \"simple_network.html\"\n",
    "net.show(html_file)\n"
   ]
  }
 ],
 "metadata": {
  "kernelspec": {
   "display_name": "master-project-gaKcyLKh-py3.12",
   "language": "python",
   "name": "python3"
  },
  "language_info": {
   "codemirror_mode": {
    "name": "ipython",
    "version": 3
   },
   "file_extension": ".py",
   "mimetype": "text/x-python",
   "name": "python",
   "nbconvert_exporter": "python",
   "pygments_lexer": "ipython3",
   "version": "3.12.6"
  }
 },
 "nbformat": 4,
 "nbformat_minor": 2
}
