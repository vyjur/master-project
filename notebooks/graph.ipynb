{
 "cells": [
  {
   "cell_type": "code",
   "execution_count": 3,
   "metadata": {},
   "outputs": [
    {
     "name": "stdout",
     "output_type": "stream",
     "text": [
      "Node Levels: {0: 0, 1: 1, 2: 2, 3: 3, 4: 2, 5: 3}\n"
     ]
    }
   ],
   "source": [
    "from collections import defaultdict\n",
    "\n",
    "class Graph:\n",
    "    def __init__(self):\n",
    "        self.graph = defaultdict(list)  # Adjacency list representation\n",
    "    \n",
    "    def add_edge(self, u, v):\n",
    "        self.graph[u].append(v)  # Directed edge u -> v\n",
    "    \n",
    "    def dfs_enumerate_levels(self, start):\n",
    "        levels = {}  # To store levels of each node\n",
    "        visited = set()\n",
    "\n",
    "        def dfs(node, current_level):\n",
    "            visited.add(node)\n",
    "            levels[node] = current_level  # Assign the current level to the node\n",
    "\n",
    "            for neighbor in self.graph[node]:\n",
    "                if neighbor not in visited:\n",
    "                    dfs(neighbor, current_level + 1)\n",
    "\n",
    "        dfs(start, 0)  # Start DFS from the root node at level 0\n",
    "        return levels\n",
    "\n",
    "# Example Usage\n",
    "g = Graph()\n",
    "g.add_edge(0, 1)\n",
    "g.add_edge(1, 2)\n",
    "g.add_edge(2, 3)\n",
    "g.add_edge(1, 4)\n",
    "g.add_edge(4, 5)\n",
    "g.add_edge(6, 1)\n",
    "\n",
    "start_node = 0\n",
    "levels = g.dfs_enumerate_levels(start_node)\n",
    "print(\"Node Levels:\", levels)"
   ]
  },
  {
   "cell_type": "code",
   "execution_count": 8,
   "metadata": {},
   "outputs": [
    {
     "name": "stdout",
     "output_type": "stream",
     "text": [
      "Node Levels: {0: 0, 1: 1, 2: 2, 3: 3, 4: 2, 5: 3, 6: 0, 7: 1}\n"
     ]
    }
   ],
   "source": [
    "from collections import defaultdict\n",
    "\n",
    "class Graph:\n",
    "    def __init__(self):\n",
    "        self.graph = defaultdict(list)  # Adjacency list representation\n",
    "    \n",
    "    def add_edge(self, u, v):\n",
    "        self.graph[u].append(v)  # Directed edge u -> v\n",
    "    \n",
    "    def enumerate_levels(self):\n",
    "        levels = {}  # To store levels of each node\n",
    "        visited = set()\n",
    "\n",
    "        def dfs(node, current_level):\n",
    "            visited.add(node)\n",
    "            levels[node] = current_level  # Assign the current level to the node\n",
    "\n",
    "            for neighbor in self.graph[node]:\n",
    "                if neighbor not in visited:\n",
    "                    dfs(neighbor, current_level + 1)\n",
    "\n",
    "        # Handle disconnected graph\n",
    "        for node in list(self.graph.keys()):  # Use list(self.graph.keys()) to avoid RuntimeError\n",
    "            if node not in visited:\n",
    "                dfs(node, 0)  # Start DFS for unvisited components\n",
    "\n",
    "        return levels\n",
    "\n",
    "# Example Usage\n",
    "g = Graph()\n",
    "g.add_edge(0, 1)\n",
    "g.add_edge(1, 2)\n",
    "g.add_edge(2, 3)\n",
    "g.add_edge(1, 4)\n",
    "g.add_edge(4, 5)\n",
    "g.add_edge(6, 1)\n",
    "g.add_edge(6, 7)\n",
    "\n",
    "levels = g.enumerate_levels()\n",
    "print(\"Node Levels:\", levels)\n"
   ]
  },
  {
   "cell_type": "code",
   "execution_count": 11,
   "metadata": {},
   "outputs": [
    {
     "name": "stdout",
     "output_type": "stream",
     "text": [
      "0\n",
      "1\n",
      "2\n",
      "3\n",
      "4\n",
      "5\n",
      "6\n",
      "7\n"
     ]
    }
   ],
   "source": [
    "for level in levels:\n",
    "    print(level)"
   ]
  },
  {
   "cell_type": "code",
   "execution_count": 12,
   "metadata": {},
   "outputs": [
    {
     "name": "stdout",
     "output_type": "stream",
     "text": [
      "Updated Levels: {0: 3, 1: 4, 2: 5, 3: 6, 4: 5, 5: 6, 6: 3, 7: 4}\n"
     ]
    }
   ],
   "source": [
    "offset = 3\n",
    "updated_levels = {node: level + offset for node, level in levels.items()}\n",
    "print(\"Updated Levels:\", updated_levels)"
   ]
  },
  {
   "cell_type": "code",
   "execution_count": 18,
   "metadata": {},
   "outputs": [
    {
     "name": "stdout",
     "output_type": "stream",
     "text": [
      "[1, 2, 3, 4, 4, 5, 6]\n"
     ]
    }
   ],
   "source": [
    "def resolve_duplicates(lst):\n",
    "    # Create an empty list to store the resolved levels\n",
    "    resolved = []\n",
    "    # Keep track of the current level\n",
    "    current = 1\n",
    "\n",
    "    for level in lst:\n",
    "        # If the level is greater than the current level, we need to fill the missing levels\n",
    "        while current < level:\n",
    "            resolved.append(current)\n",
    "            current += 1\n",
    "        \n",
    "        # Append the current level to the resolved list\n",
    "        resolved.append(level)\n",
    "        current = level + 1\n",
    "\n",
    "    return resolved\n",
    "\n",
    "# Example usage:\n",
    "lst = [1, 2, 4, 4, 5, 6]\n",
    "resolved_lst = resolve_duplicates(lst)\n",
    "print(resolved_lst)\n"
   ]
  }
 ],
 "metadata": {
  "kernelspec": {
   "display_name": "master-project-gaKcyLKh-py3.12",
   "language": "python",
   "name": "python3"
  },
  "language_info": {
   "codemirror_mode": {
    "name": "ipython",
    "version": 3
   },
   "file_extension": ".py",
   "mimetype": "text/x-python",
   "name": "python",
   "nbconvert_exporter": "python",
   "pygments_lexer": "ipython3",
   "version": "3.12.6"
  }
 },
 "nbformat": 4,
 "nbformat_minor": 2
}
