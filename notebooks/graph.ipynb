{
 "cells": [
  {
   "cell_type": "code",
   "execution_count": 3,
   "metadata": {},
   "outputs": [
    {
     "name": "stdout",
     "output_type": "stream",
     "text": [
      "Node Levels: {0: 0, 1: 1, 2: 2, 3: 3, 4: 2, 5: 3}\n"
     ]
    }
   ],
   "source": [
    "from collections import defaultdict\n",
    "\n",
    "class Graph:\n",
    "    def __init__(self):\n",
    "        self.graph = defaultdict(list)  # Adjacency list representation\n",
    "    \n",
    "    def add_edge(self, u, v):\n",
    "        self.graph[u].append(v)  # Directed edge u -> v\n",
    "    \n",
    "    def dfs_enumerate_levels(self, start):\n",
    "        levels = {}  # To store levels of each node\n",
    "        visited = set()\n",
    "\n",
    "        def dfs(node, current_level):\n",
    "            visited.add(node)\n",
    "            levels[node] = current_level  # Assign the current level to the node\n",
    "\n",
    "            for neighbor in self.graph[node]:\n",
    "                if neighbor not in visited:\n",
    "                    dfs(neighbor, current_level + 1)\n",
    "\n",
    "        dfs(start, 0)  # Start DFS from the root node at level 0\n",
    "        return levels\n",
    "\n",
    "# Example Usage\n",
    "g = Graph()\n",
    "g.add_edge(0, 1)\n",
    "g.add_edge(1, 2)\n",
    "g.add_edge(2, 3)\n",
    "g.add_edge(1, 4)\n",
    "g.add_edge(4, 5)\n",
    "g.add_edge(6, 1)\n",
    "\n",
    "start_node = 0\n",
    "levels = g.dfs_enumerate_levels(start_node)\n",
    "print(\"Node Levels:\", levels)"
   ]
  },
  {
   "cell_type": "code",
   "execution_count": 8,
   "metadata": {},
   "outputs": [
    {
     "name": "stdout",
     "output_type": "stream",
     "text": [
      "Node Levels: {0: 0, 1: 1, 2: 2, 3: 3, 4: 2, 5: 3, 6: 0, 7: 1}\n"
     ]
    }
   ],
   "source": [
    "from collections import defaultdict\n",
    "\n",
    "class Graph:\n",
    "    def __init__(self):\n",
    "        self.graph = defaultdict(list)  # Adjacency list representation\n",
    "    \n",
    "    def add_edge(self, u, v):\n",
    "        self.graph[u].append(v)  # Directed edge u -> v\n",
    "    \n",
    "    def enumerate_levels(self):\n",
    "        levels = {}  # To store levels of each node\n",
    "        visited = set()\n",
    "\n",
    "        def dfs(node, current_level):\n",
    "            visited.add(node)\n",
    "            levels[node] = current_level  # Assign the current level to the node\n",
    "\n",
    "            for neighbor in self.graph[node]:\n",
    "                if neighbor not in visited:\n",
    "                    dfs(neighbor, current_level + 1)\n",
    "\n",
    "        # Handle disconnected graph\n",
    "        for node in list(self.graph.keys()):  # Use list(self.graph.keys()) to avoid RuntimeError\n",
    "            if node not in visited:\n",
    "                dfs(node, 0)  # Start DFS for unvisited components\n",
    "\n",
    "        return levels\n",
    "\n",
    "# Example Usage\n",
    "g = Graph()\n",
    "g.add_edge(0, 1)\n",
    "g.add_edge(1, 2)\n",
    "g.add_edge(2, 3)\n",
    "g.add_edge(1, 4)\n",
    "g.add_edge(4, 5)\n",
    "g.add_edge(6, 1)\n",
    "g.add_edge(6, 7)\n",
    "\n",
    "levels = g.enumerate_levels()\n",
    "print(\"Node Levels:\", levels)\n"
   ]
  },
  {
   "cell_type": "code",
   "execution_count": 11,
   "metadata": {},
   "outputs": [
    {
     "name": "stdout",
     "output_type": "stream",
     "text": [
      "0\n",
      "1\n",
      "2\n",
      "3\n",
      "4\n",
      "5\n",
      "6\n",
      "7\n"
     ]
    }
   ],
   "source": [
    "for level in levels:\n",
    "    print(level)"
   ]
  },
  {
   "cell_type": "code",
   "execution_count": 12,
   "metadata": {},
   "outputs": [
    {
     "name": "stdout",
     "output_type": "stream",
     "text": [
      "Updated Levels: {0: 3, 1: 4, 2: 5, 3: 6, 4: 5, 5: 6, 6: 3, 7: 4}\n"
     ]
    }
   ],
   "source": [
    "offset = 3\n",
    "updated_levels = {node: level + offset for node, level in levels.items()}\n",
    "print(\"Updated Levels:\", updated_levels)"
   ]
  },
  {
   "cell_type": "code",
   "execution_count": 18,
   "metadata": {},
   "outputs": [
    {
     "name": "stdout",
     "output_type": "stream",
     "text": [
      "[1, 2, 3, 4, 4, 5, 6]\n"
     ]
    }
   ],
   "source": [
    "def resolve_duplicates(lst):\n",
    "    # Create an empty list to store the resolved levels\n",
    "    resolved = []\n",
    "    # Keep track of the current level\n",
    "    current = 1\n",
    "\n",
    "    for level in lst:\n",
    "        # If the level is greater than the current level, we need to fill the missing levels\n",
    "        while current < level:\n",
    "            resolved.append(current)\n",
    "            current += 1\n",
    "        \n",
    "        # Append the current level to the resolved list\n",
    "        resolved.append(level)\n",
    "        current = level + 1\n",
    "\n",
    "    return resolved\n",
    "\n",
    "# Example usage:\n",
    "lst = [1, 2, 4, 4, 5, 6]\n",
    "resolved_lst = resolve_duplicates(lst)\n",
    "print(resolved_lst)\n"
   ]
  },
  {
   "cell_type": "code",
   "execution_count": 19,
   "metadata": {},
   "outputs": [
    {
     "name": "stdout",
     "output_type": "stream",
     "text": [
      "No cycle added\n"
     ]
    }
   ],
   "source": [
    "from collections import defaultdict\n",
    "\n",
    "class Graph:\n",
    "    def __init__(self):\n",
    "        self.graph = defaultdict(list)  # Adjacency list representation\n",
    "        self.reverse_graph = defaultdict(\n",
    "            list\n",
    "        )  # Reverse graph to track parent-child relationships\n",
    "        \n",
    "    def add_node(self, u):\n",
    "        self.graph[u] = list()\n",
    "\n",
    "    def add_edge(self, u, v):\n",
    "        self.graph[u].append(v)  # Directed edge u -> v\n",
    "        self.reverse_graph[v].append(u)  # Reverse edge v -> u (parent -> child)\n",
    "\n",
    "    def __is_cyclic_util(self, v, visited, recursion_stack):\n",
    "        visited[v] = True\n",
    "        recursion_stack[v] = True\n",
    "\n",
    "        for neighbor in self.graph[v]:\n",
    "            if neighbor in visited and not visited[neighbor]:\n",
    "                if self.__is_cyclic_util(neighbor, visited, recursion_stack):\n",
    "                    return True\n",
    "            elif neighbor in recursion_stack and recursion_stack[neighbor]:\n",
    "                return True\n",
    "\n",
    "        recursion_stack[v] = False\n",
    "        return False\n",
    "\n",
    "    def is_cyclic(self):\n",
    "        visited = {node: False for node in self.graph}\n",
    "        recursion_stack = {node: False for node in self.graph}\n",
    "\n",
    "        for node in self.graph:\n",
    "            if not visited[node]:\n",
    "                if self.__is_cyclic_util(node, visited, recursion_stack):\n",
    "                    return True\n",
    "\n",
    "        return False\n",
    "\n",
    "    def remove_node(self, node):\n",
    "        # Get all children of the node\n",
    "        children = self.graph[node]\n",
    "\n",
    "        # Get all parents of the node (nodes that have edges pointing to it)\n",
    "        parents = self.reverse_graph[node]\n",
    "\n",
    "        # Reassign children of the removed node to its parents\n",
    "        for parent in parents:\n",
    "            # Remove the original connection from parent to the removed node\n",
    "            if node in self.graph[parent]:\n",
    "                self.graph[parent].remove(node)\n",
    "            # Add all the children to the parent's adjacency list\n",
    "            self.graph[parent].extend(children)\n",
    "\n",
    "        # Remove the node from the graph\n",
    "        if node in self.graph:\n",
    "            del self.graph[node]  # Delete the node from the graph\n",
    "        if node in self.reverse_graph:\n",
    "            del self.reverse_graph[node]  # Delete the node from reverse graph\n",
    "\n",
    "        # Remove the node from other nodes' adjacency lists\n",
    "        for neighbors in self.graph.values():\n",
    "            if node in neighbors:\n",
    "                neighbors.remove(node)\n",
    "\n",
    "        # Also, remove the node from reverse graph's parent-child relationships\n",
    "        for children in self.reverse_graph.values():\n",
    "            if node in children:\n",
    "                children.remove(node)\n",
    "\n",
    "    def enumerate_levels(self):\n",
    "        levels = {}  # To store levels of each node\n",
    "        visited = set()\n",
    "\n",
    "        def dfs(node, current_level):\n",
    "            visited.add(node)\n",
    "            levels[node] = current_level  # Assign the current level to the node\n",
    "\n",
    "            for neighbor in self.graph[node]:\n",
    "                if neighbor not in visited:\n",
    "                    dfs(neighbor, current_level + 1)\n",
    "\n",
    "        # Handle disconnected graph\n",
    "        for node in list(\n",
    "            self.graph.keys()\n",
    "        ):  # Use list(self.graph.keys()) to avoid RuntimeError\n",
    "            if node not in visited:\n",
    "                dfs(node, 0)  # Start DFS for unvisited components\n",
    "\n",
    "        return levels\n",
    "\n",
    "\n",
    "if __name__ == \"__main__\":\n",
    "    g = Graph()\n",
    "    g.add_edge(\"A\", \"B\")\n",
    "    g.add_edge(\"A\", \"C\")\n",
    "    g.add_edge(\"B\", \"C\")\n",
    "    g.add_edge(\"D\", None)\n",
    "\n",
    "    if g.is_cyclic():\n",
    "        print(\"Cycle detected\")\n",
    "    else:\n",
    "        print(\"No cycle added\")"
   ]
  },
  {
   "cell_type": "code",
   "execution_count": 20,
   "metadata": {},
   "outputs": [],
   "source": [
    "g.add_node(\"E\")"
   ]
  },
  {
   "cell_type": "code",
   "execution_count": 21,
   "metadata": {},
   "outputs": [
    {
     "data": {
      "text/plain": [
       "{'A': 0, 'B': 1, 'C': 2, 'D': 0, None: 1, 'E': 0}"
      ]
     },
     "execution_count": 21,
     "metadata": {},
     "output_type": "execute_result"
    }
   ],
   "source": [
    "g.enumerate_levels()"
   ]
  },
  {
   "cell_type": "code",
   "execution_count": 10,
   "metadata": {},
   "outputs": [
    {
     "name": "stdout",
     "output_type": "stream",
     "text": [
      "Cycle detected\n"
     ]
    }
   ],
   "source": [
    "g = Graph()\n",
    "g.add_edge(0, 1)\n",
    "g.add_edge(1, 2)\n",
    "g.add_edge(2, 3)\n",
    "g.add_edge(3, 0)\n",
    "\n",
    "if g.is_cyclic():\n",
    "    print(\"Cycle detected\")\n",
    "else:\n",
    "    print(\"No cycle added\")"
   ]
  },
  {
   "cell_type": "code",
   "execution_count": 17,
   "metadata": {},
   "outputs": [],
   "source": [
    "from collections import defaultdict\n",
    "\n",
    "class Graph:\n",
    "    def __init__(self):\n",
    "        self.graph = defaultdict(list)\n",
    "\n",
    "    def add_edge(self, u, v):\n",
    "        self.graph[u].append(v)\n",
    "        self.graph[v].append(u)  # Since it's undirected, add both directions\n",
    "\n",
    "    def __is_cyclic_util(self, v, visited, parent):\n",
    "        visited[v] = True\n",
    "\n",
    "        for neighbor in self.graph[v]:\n",
    "            if not visited[neighbor]:  \n",
    "                if self.__is_cyclic_util(neighbor, visited, v):  \n",
    "                    return True\n",
    "            elif neighbor != parent:  \n",
    "                return True  # Found a back edge (not leading to the parent)\n",
    "\n",
    "        return False\n",
    "\n",
    "    def is_cyclic(self):\n",
    "        visited = {node: False for node in self.graph}\n",
    "\n",
    "        for node in self.graph:\n",
    "            if not visited[node]:\n",
    "                if self.__is_cyclic_util(node, visited, None):  # Start DFS\n",
    "                    return True\n",
    "\n",
    "        return False\n"
   ]
  },
  {
   "cell_type": "code",
   "execution_count": 18,
   "metadata": {},
   "outputs": [
    {
     "name": "stdout",
     "output_type": "stream",
     "text": [
      "Cycle detected\n"
     ]
    }
   ],
   "source": [
    "g = Graph()\n",
    "g.add_edge(\"A\", \"B\")\n",
    "g.add_edge(\"A\", \"C\")\n",
    "g.add_edge(\"B\", \"C\")\n",
    "\n",
    "if g.is_cyclic():\n",
    "    print(\"Cycle detected\")\n",
    "else:\n",
    "    print(\"No cycle added\")"
   ]
  },
  {
   "cell_type": "code",
   "execution_count": null,
   "metadata": {},
   "outputs": [],
   "source": [
    "g.add_edge"
   ]
  }
 ],
 "metadata": {
  "kernelspec": {
   "display_name": "master-project-gaKcyLKh-py3.12",
   "language": "python",
   "name": "python3"
  },
  "language_info": {
   "codemirror_mode": {
    "name": "ipython",
    "version": 3
   },
   "file_extension": ".py",
   "mimetype": "text/x-python",
   "name": "python",
   "nbconvert_exporter": "python",
   "pygments_lexer": "ipython3",
   "version": "3.12.6"
  }
 },
 "nbformat": 4,
 "nbformat_minor": 2
}
