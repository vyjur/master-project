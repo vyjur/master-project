{
 "cells": [
  {
   "cell_type": "code",
   "execution_count": 1,
   "metadata": {},
   "outputs": [],
   "source": [
    "from pyvis.network import Network"
   ]
  },
  {
   "cell_type": "code",
   "execution_count": 26,
   "metadata": {},
   "outputs": [
    {
     "name": "stdout",
     "output_type": "stream",
     "text": [
      "Local cdn resources have problems on chrome/safari when used in jupyter-notebook. \n"
     ]
    },
    {
     "data": {
      "text/html": [
       "\n",
       "        <iframe\n",
       "            width=\"100%\"\n",
       "            height=\"500px\"\n",
       "            src=\"simple_network.html\"\n",
       "            frameborder=\"0\"\n",
       "            allowfullscreen\n",
       "            \n",
       "        ></iframe>\n",
       "        "
      ],
      "text/plain": [
       "<IPython.lib.display.IFrame at 0x20599e2c0d0>"
      ]
     },
     "execution_count": 26,
     "metadata": {},
     "output_type": "execute_result"
    }
   ],
   "source": [
    "from pyvis.network import Network\n",
    "\n",
    "# Create a Network object\n",
    "net = Network(notebook=True, height=\"500px\", width=\"100%\", bgcolor=\"#222222\", font_color=\"white\")\n",
    "\n",
    "# Add nodes to the graph with multiple labels\n",
    "# Concatenating multiple labels into one string for display\n",
    "nodes = ['Node 1', 'Node 2', 'Node 3', 'Node 4']\n",
    "\n",
    "nodes2 = ['Node A', 'Node B', 'Node C', 'Node D']\n",
    "\n",
    "# Adding nodes with calculated positions\n",
    "for i, label in enumerate(nodes):\n",
    "    net.add_node(i + 1, label=label, x=i * 100, y=0)  # Adjusting x position dynamically\n",
    "\n",
    "for i, label in enumerate(nodes2):\n",
    "    net.add_node(5+i + 1, label=label, x=i * 100, y=100)  # Adjusting x position dynamically\n",
    "\n",
    "# Adding edges between sequential nodes\n",
    "for i in range(len(nodes) - 1):\n",
    "    net.add_edge(i + 1, i + 2)\n",
    "\n",
    "for i in range(len(nodes) - 1):\n",
    "    net.add_edge(5+ i + 1, 5+ i + 2)\n",
    "\n",
    "\n",
    "\n",
    "# Enable physics\n",
    "net.toggle_physics(True)\n",
    "\n",
    "# Show the graph and embed it in the notebook\n",
    "html_file = \"simple_network.html\"\n",
    "net.show(html_file)\n"
   ]
  }
 ],
 "metadata": {
  "kernelspec": {
   "display_name": ".venv",
   "language": "python",
   "name": "python3"
  },
  "language_info": {
   "codemirror_mode": {
    "name": "ipython",
    "version": 3
   },
   "file_extension": ".py",
   "mimetype": "text/x-python",
   "name": "python",
   "nbconvert_exporter": "python",
   "pygments_lexer": "ipython3",
   "version": "3.10.5"
  }
 },
 "nbformat": 4,
 "nbformat_minor": 2
}
